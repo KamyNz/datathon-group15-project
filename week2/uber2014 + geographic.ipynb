{
 "cells": [
  {
   "cell_type": "markdown",
   "metadata": {},
   "source": [
    "# Carga de información geográfica de NTAs\n",
    "Carga de librerías básicas de manipulación de datos y de datos crudos de la geografía de los NTAs"
   ]
  },
  {
   "cell_type": "code",
   "execution_count": 1,
   "metadata": {},
   "outputs": [],
   "source": [
    "import pandas as pd\n",
    "import numpy as np\n",
    "import seaborn as sns"
   ]
  },
  {
   "cell_type": "code",
   "execution_count": 2,
   "metadata": {},
   "outputs": [],
   "source": [
    "geography = pd.read_csv(\"geographic.csv\")"
   ]
  },
  {
   "cell_type": "code",
   "execution_count": 3,
   "metadata": {},
   "outputs": [
    {
     "data": {
      "text/html": [
       "<div>\n",
       "<style scoped>\n",
       "    .dataframe tbody tr th:only-of-type {\n",
       "        vertical-align: middle;\n",
       "    }\n",
       "\n",
       "    .dataframe tbody tr th {\n",
       "        vertical-align: top;\n",
       "    }\n",
       "\n",
       "    .dataframe thead th {\n",
       "        text-align: right;\n",
       "    }\n",
       "</style>\n",
       "<table border=\"1\" class=\"dataframe\">\n",
       "  <thead>\n",
       "    <tr style=\"text-align: right;\">\n",
       "      <th></th>\n",
       "      <th>BK88</th>\n",
       "      <th>QN52</th>\n",
       "      <th>QN48</th>\n",
       "      <th>QN51</th>\n",
       "      <th>QN27</th>\n",
       "      <th>BX35</th>\n",
       "      <th>BX98</th>\n",
       "      <th>QN07</th>\n",
       "      <th>MN06</th>\n",
       "      <th>QN02</th>\n",
       "      <th>...</th>\n",
       "      <th>MN25</th>\n",
       "      <th>MN24</th>\n",
       "      <th>MN23</th>\n",
       "      <th>MN13</th>\n",
       "      <th>MN15</th>\n",
       "      <th>MN32</th>\n",
       "      <th>MN33</th>\n",
       "      <th>MN99</th>\n",
       "      <th>QN18</th>\n",
       "      <th>QN29</th>\n",
       "    </tr>\n",
       "  </thead>\n",
       "  <tbody>\n",
       "    <tr>\n",
       "      <td>0</td>\n",
       "      <td>-73.976051</td>\n",
       "      <td>-73.794934</td>\n",
       "      <td>-73.775740</td>\n",
       "      <td>-73.803792</td>\n",
       "      <td>-73.861099</td>\n",
       "      <td>-73.896967</td>\n",
       "      <td>-73.872873</td>\n",
       "      <td>-73.757258</td>\n",
       "      <td>-73.946080</td>\n",
       "      <td>-73.760316</td>\n",
       "      <td>...</td>\n",
       "      <td>-74.000784</td>\n",
       "      <td>-73.992605</td>\n",
       "      <td>-73.989904</td>\n",
       "      <td>-74.001535</td>\n",
       "      <td>-73.993833</td>\n",
       "      <td>-73.938048</td>\n",
       "      <td>-73.935054</td>\n",
       "      <td>-74.010930</td>\n",
       "      <td>-73.858726</td>\n",
       "      <td>-73.867911</td>\n",
       "    </tr>\n",
       "    <tr>\n",
       "      <td>1</td>\n",
       "      <td>40.631284</td>\n",
       "      <td>40.757806</td>\n",
       "      <td>40.743334</td>\n",
       "      <td>40.775618</td>\n",
       "      <td>40.763673</td>\n",
       "      <td>40.834350</td>\n",
       "      <td>40.785983</td>\n",
       "      <td>40.718147</td>\n",
       "      <td>40.821271</td>\n",
       "      <td>40.675118</td>\n",
       "      <td>...</td>\n",
       "      <td>40.694295</td>\n",
       "      <td>40.724145</td>\n",
       "      <td>40.734443</td>\n",
       "      <td>40.762653</td>\n",
       "      <td>40.772940</td>\n",
       "      <td>40.780838</td>\n",
       "      <td>40.791695</td>\n",
       "      <td>40.684500</td>\n",
       "      <td>40.735717</td>\n",
       "      <td>40.744942</td>\n",
       "    </tr>\n",
       "    <tr>\n",
       "      <td>2</td>\n",
       "      <td>-73.977167</td>\n",
       "      <td>-73.794749</td>\n",
       "      <td>-73.775799</td>\n",
       "      <td>-73.800991</td>\n",
       "      <td>-73.859931</td>\n",
       "      <td>-73.896787</td>\n",
       "      <td>-73.872886</td>\n",
       "      <td>-73.755890</td>\n",
       "      <td>-73.946404</td>\n",
       "      <td>-73.758806</td>\n",
       "      <td>...</td>\n",
       "      <td>-74.000960</td>\n",
       "      <td>-73.992634</td>\n",
       "      <td>-73.989870</td>\n",
       "      <td>-74.001339</td>\n",
       "      <td>-73.993789</td>\n",
       "      <td>-73.937903</td>\n",
       "      <td>-73.935108</td>\n",
       "      <td>-74.011934</td>\n",
       "      <td>-73.858672</td>\n",
       "      <td>-73.867877</td>\n",
       "    </tr>\n",
       "    <tr>\n",
       "      <td>3</td>\n",
       "      <td>40.630755</td>\n",
       "      <td>40.755636</td>\n",
       "      <td>40.743326</td>\n",
       "      <td>40.775397</td>\n",
       "      <td>40.762209</td>\n",
       "      <td>40.834133</td>\n",
       "      <td>40.785971</td>\n",
       "      <td>40.716307</td>\n",
       "      <td>40.820580</td>\n",
       "      <td>40.673014</td>\n",
       "      <td>...</td>\n",
       "      <td>40.694077</td>\n",
       "      <td>40.724065</td>\n",
       "      <td>40.733535</td>\n",
       "      <td>40.762217</td>\n",
       "      <td>40.772912</td>\n",
       "      <td>40.780758</td>\n",
       "      <td>40.791658</td>\n",
       "      <td>40.683896</td>\n",
       "      <td>40.735627</td>\n",
       "      <td>40.744824</td>\n",
       "    </tr>\n",
       "    <tr>\n",
       "      <td>4</td>\n",
       "      <td>-73.977000</td>\n",
       "      <td>-73.794579</td>\n",
       "      <td>-73.778060</td>\n",
       "      <td>-73.798653</td>\n",
       "      <td>-73.859668</td>\n",
       "      <td>-73.896303</td>\n",
       "      <td>-73.872983</td>\n",
       "      <td>-73.754702</td>\n",
       "      <td>-73.946720</td>\n",
       "      <td>-73.758598</td>\n",
       "      <td>...</td>\n",
       "      <td>-74.003015</td>\n",
       "      <td>-73.993093</td>\n",
       "      <td>-73.990028</td>\n",
       "      <td>-74.001279</td>\n",
       "      <td>-73.993727</td>\n",
       "      <td>-73.937796</td>\n",
       "      <td>-73.935173</td>\n",
       "      <td>-74.012177</td>\n",
       "      <td>-73.858585</td>\n",
       "      <td>-73.867852</td>\n",
       "    </tr>\n",
       "  </tbody>\n",
       "</table>\n",
       "<p>5 rows × 195 columns</p>\n",
       "</div>"
      ],
      "text/plain": [
       "        BK88       QN52       QN48       QN51       QN27       BX35  \\\n",
       "0 -73.976051 -73.794934 -73.775740 -73.803792 -73.861099 -73.896967   \n",
       "1  40.631284  40.757806  40.743334  40.775618  40.763673  40.834350   \n",
       "2 -73.977167 -73.794749 -73.775799 -73.800991 -73.859931 -73.896787   \n",
       "3  40.630755  40.755636  40.743326  40.775397  40.762209  40.834133   \n",
       "4 -73.977000 -73.794579 -73.778060 -73.798653 -73.859668 -73.896303   \n",
       "\n",
       "        BX98       QN07       MN06       QN02  ...       MN25       MN24  \\\n",
       "0 -73.872873 -73.757258 -73.946080 -73.760316  ... -74.000784 -73.992605   \n",
       "1  40.785983  40.718147  40.821271  40.675118  ...  40.694295  40.724145   \n",
       "2 -73.872886 -73.755890 -73.946404 -73.758806  ... -74.000960 -73.992634   \n",
       "3  40.785971  40.716307  40.820580  40.673014  ...  40.694077  40.724065   \n",
       "4 -73.872983 -73.754702 -73.946720 -73.758598  ... -74.003015 -73.993093   \n",
       "\n",
       "        MN23       MN13       MN15       MN32       MN33       MN99  \\\n",
       "0 -73.989904 -74.001535 -73.993833 -73.938048 -73.935054 -74.010930   \n",
       "1  40.734443  40.762653  40.772940  40.780838  40.791695  40.684500   \n",
       "2 -73.989870 -74.001339 -73.993789 -73.937903 -73.935108 -74.011934   \n",
       "3  40.733535  40.762217  40.772912  40.780758  40.791658  40.683896   \n",
       "4 -73.990028 -74.001279 -73.993727 -73.937796 -73.935173 -74.012177   \n",
       "\n",
       "        QN18       QN29  \n",
       "0 -73.858726 -73.867911  \n",
       "1  40.735717  40.744942  \n",
       "2 -73.858672 -73.867877  \n",
       "3  40.735627  40.744824  \n",
       "4 -73.858585 -73.867852  \n",
       "\n",
       "[5 rows x 195 columns]"
      ]
     },
     "execution_count": 3,
     "metadata": {},
     "output_type": "execute_result"
    }
   ],
   "source": [
    "geography.head()"
   ]
  },
  {
   "cell_type": "markdown",
   "metadata": {},
   "source": [
    "# Conversión del archivo de texto a GeoDataFrame"
   ]
  },
  {
   "cell_type": "code",
   "execution_count": 4,
   "metadata": {},
   "outputs": [],
   "source": [
    "geodf_raw = geography.transpose()"
   ]
  },
  {
   "cell_type": "code",
   "execution_count": 5,
   "metadata": {},
   "outputs": [
    {
     "data": {
      "text/html": [
       "<div>\n",
       "<style scoped>\n",
       "    .dataframe tbody tr th:only-of-type {\n",
       "        vertical-align: middle;\n",
       "    }\n",
       "\n",
       "    .dataframe tbody tr th {\n",
       "        vertical-align: top;\n",
       "    }\n",
       "\n",
       "    .dataframe thead th {\n",
       "        text-align: right;\n",
       "    }\n",
       "</style>\n",
       "<table border=\"1\" class=\"dataframe\">\n",
       "  <thead>\n",
       "    <tr style=\"text-align: right;\">\n",
       "      <th></th>\n",
       "      <th>0</th>\n",
       "      <th>1</th>\n",
       "      <th>2</th>\n",
       "      <th>3</th>\n",
       "      <th>4</th>\n",
       "      <th>5</th>\n",
       "      <th>6</th>\n",
       "      <th>7</th>\n",
       "      <th>8</th>\n",
       "      <th>9</th>\n",
       "      <th>...</th>\n",
       "      <th>9292</th>\n",
       "      <th>9293</th>\n",
       "      <th>9294</th>\n",
       "      <th>9295</th>\n",
       "      <th>9296</th>\n",
       "      <th>9297</th>\n",
       "      <th>9298</th>\n",
       "      <th>9299</th>\n",
       "      <th>9300</th>\n",
       "      <th>9301</th>\n",
       "    </tr>\n",
       "  </thead>\n",
       "  <tbody>\n",
       "    <tr>\n",
       "      <td>BK88</td>\n",
       "      <td>-73.976051</td>\n",
       "      <td>40.631284</td>\n",
       "      <td>-73.977167</td>\n",
       "      <td>40.630755</td>\n",
       "      <td>-73.977000</td>\n",
       "      <td>40.629880</td>\n",
       "      <td>-73.976851</td>\n",
       "      <td>40.629097</td>\n",
       "      <td>-73.976697</td>\n",
       "      <td>40.628363</td>\n",
       "      <td>...</td>\n",
       "      <td>NaN</td>\n",
       "      <td>NaN</td>\n",
       "      <td>NaN</td>\n",
       "      <td>NaN</td>\n",
       "      <td>NaN</td>\n",
       "      <td>NaN</td>\n",
       "      <td>NaN</td>\n",
       "      <td>NaN</td>\n",
       "      <td>NaN</td>\n",
       "      <td>NaN</td>\n",
       "    </tr>\n",
       "    <tr>\n",
       "      <td>QN52</td>\n",
       "      <td>-73.794934</td>\n",
       "      <td>40.757806</td>\n",
       "      <td>-73.794749</td>\n",
       "      <td>40.755636</td>\n",
       "      <td>-73.794579</td>\n",
       "      <td>40.753571</td>\n",
       "      <td>-73.794629</td>\n",
       "      <td>40.752711</td>\n",
       "      <td>-73.794657</td>\n",
       "      <td>40.751996</td>\n",
       "      <td>...</td>\n",
       "      <td>NaN</td>\n",
       "      <td>NaN</td>\n",
       "      <td>NaN</td>\n",
       "      <td>NaN</td>\n",
       "      <td>NaN</td>\n",
       "      <td>NaN</td>\n",
       "      <td>NaN</td>\n",
       "      <td>NaN</td>\n",
       "      <td>NaN</td>\n",
       "      <td>NaN</td>\n",
       "    </tr>\n",
       "    <tr>\n",
       "      <td>QN48</td>\n",
       "      <td>-73.775740</td>\n",
       "      <td>40.743334</td>\n",
       "      <td>-73.775799</td>\n",
       "      <td>40.743326</td>\n",
       "      <td>-73.778060</td>\n",
       "      <td>40.742995</td>\n",
       "      <td>-73.778601</td>\n",
       "      <td>40.742916</td>\n",
       "      <td>-73.779658</td>\n",
       "      <td>40.742738</td>\n",
       "      <td>...</td>\n",
       "      <td>NaN</td>\n",
       "      <td>NaN</td>\n",
       "      <td>NaN</td>\n",
       "      <td>NaN</td>\n",
       "      <td>NaN</td>\n",
       "      <td>NaN</td>\n",
       "      <td>NaN</td>\n",
       "      <td>NaN</td>\n",
       "      <td>NaN</td>\n",
       "      <td>NaN</td>\n",
       "    </tr>\n",
       "    <tr>\n",
       "      <td>QN51</td>\n",
       "      <td>-73.803792</td>\n",
       "      <td>40.775618</td>\n",
       "      <td>-73.800991</td>\n",
       "      <td>40.775397</td>\n",
       "      <td>-73.798653</td>\n",
       "      <td>40.775209</td>\n",
       "      <td>-73.798531</td>\n",
       "      <td>40.775199</td>\n",
       "      <td>-73.798234</td>\n",
       "      <td>40.774857</td>\n",
       "      <td>...</td>\n",
       "      <td>NaN</td>\n",
       "      <td>NaN</td>\n",
       "      <td>NaN</td>\n",
       "      <td>NaN</td>\n",
       "      <td>NaN</td>\n",
       "      <td>NaN</td>\n",
       "      <td>NaN</td>\n",
       "      <td>NaN</td>\n",
       "      <td>NaN</td>\n",
       "      <td>NaN</td>\n",
       "    </tr>\n",
       "    <tr>\n",
       "      <td>QN27</td>\n",
       "      <td>-73.861099</td>\n",
       "      <td>40.763673</td>\n",
       "      <td>-73.859931</td>\n",
       "      <td>40.762209</td>\n",
       "      <td>-73.859668</td>\n",
       "      <td>40.761910</td>\n",
       "      <td>-73.859137</td>\n",
       "      <td>40.761427</td>\n",
       "      <td>-73.859125</td>\n",
       "      <td>40.761284</td>\n",
       "      <td>...</td>\n",
       "      <td>NaN</td>\n",
       "      <td>NaN</td>\n",
       "      <td>NaN</td>\n",
       "      <td>NaN</td>\n",
       "      <td>NaN</td>\n",
       "      <td>NaN</td>\n",
       "      <td>NaN</td>\n",
       "      <td>NaN</td>\n",
       "      <td>NaN</td>\n",
       "      <td>NaN</td>\n",
       "    </tr>\n",
       "  </tbody>\n",
       "</table>\n",
       "<p>5 rows × 9302 columns</p>\n",
       "</div>"
      ],
      "text/plain": [
       "           0          1          2          3          4          5     \\\n",
       "BK88 -73.976051  40.631284 -73.977167  40.630755 -73.977000  40.629880   \n",
       "QN52 -73.794934  40.757806 -73.794749  40.755636 -73.794579  40.753571   \n",
       "QN48 -73.775740  40.743334 -73.775799  40.743326 -73.778060  40.742995   \n",
       "QN51 -73.803792  40.775618 -73.800991  40.775397 -73.798653  40.775209   \n",
       "QN27 -73.861099  40.763673 -73.859931  40.762209 -73.859668  40.761910   \n",
       "\n",
       "           6          7          8          9     ...  9292  9293  9294  9295  \\\n",
       "BK88 -73.976851  40.629097 -73.976697  40.628363  ...   NaN   NaN   NaN   NaN   \n",
       "QN52 -73.794629  40.752711 -73.794657  40.751996  ...   NaN   NaN   NaN   NaN   \n",
       "QN48 -73.778601  40.742916 -73.779658  40.742738  ...   NaN   NaN   NaN   NaN   \n",
       "QN51 -73.798531  40.775199 -73.798234  40.774857  ...   NaN   NaN   NaN   NaN   \n",
       "QN27 -73.859137  40.761427 -73.859125  40.761284  ...   NaN   NaN   NaN   NaN   \n",
       "\n",
       "      9296  9297  9298  9299  9300  9301  \n",
       "BK88   NaN   NaN   NaN   NaN   NaN   NaN  \n",
       "QN52   NaN   NaN   NaN   NaN   NaN   NaN  \n",
       "QN48   NaN   NaN   NaN   NaN   NaN   NaN  \n",
       "QN51   NaN   NaN   NaN   NaN   NaN   NaN  \n",
       "QN27   NaN   NaN   NaN   NaN   NaN   NaN  \n",
       "\n",
       "[5 rows x 9302 columns]"
      ]
     },
     "execution_count": 5,
     "metadata": {},
     "output_type": "execute_result"
    }
   ],
   "source": [
    "geodf_raw.head()"
   ]
  },
  {
   "cell_type": "code",
   "execution_count": 6,
   "metadata": {},
   "outputs": [
    {
     "data": {
      "text/plain": [
       "['BK88', 'QN52', 'QN48', 'QN51', 'QN27']"
      ]
     },
     "execution_count": 6,
     "metadata": {},
     "output_type": "execute_result"
    }
   ],
   "source": [
    "list(geodf_raw.index)[:5]"
   ]
  },
  {
   "cell_type": "markdown",
   "metadata": {},
   "source": [
    "El siguiente procedimiento convierte el formato leído a un formato similar al .wkt que lee la librería de gráficos `geopandas` y lo guarda para su posterior uso en caso de no existir"
   ]
  },
  {
   "cell_type": "code",
   "execution_count": 7,
   "metadata": {},
   "outputs": [],
   "source": [
    "import os.path\n",
    "if (not(os.path.isfile('gdf.csv'))):\n",
    "\n",
    "    ntas_names = list(geodf_raw.index)\n",
    "    polygons = []\n",
    "\n",
    "    for i in range(len(geodf_raw)):\n",
    "        string = 'POLYGON (('\n",
    "        coord = ''\n",
    "        for j in geodf_raw.columns:\n",
    "            if (not pd.isna(geodf_raw.iloc[i,j])): \n",
    "                if j % 2 == 0:\n",
    "                    coord = str(geodf_raw.iloc[i,j])\n",
    "                elif j % 2 == 1:\n",
    "                    coord = coord + ' ' + str(geodf_raw.iloc[i,j]) + ','\n",
    "                    string = string + coord\n",
    "        string = string + str(geodf_raw.iloc[i,0]) + ' ' + str(geodf_raw.iloc[i,1]) + '))'\n",
    "        polygons.append(string)\n",
    "\n",
    "    ntas_df = pd.DataFrame({'name':ntas_names, 'geometry':polygons})\n",
    "    print(ntas_df.head())\n",
    "    print(type(ntas_df['geometry']))\n",
    "\n",
    "    ntas_df.to_csv('gdf.csv')\n",
    "    \n",
    "else:\n",
    "    ntas_df = pd.read_csv('gdf.csv')    "
   ]
  },
  {
   "cell_type": "markdown",
   "metadata": {},
   "source": [
    "# Creación de GeoDataFrame con `geopandas`\n",
    "Se carga la librería `geopandas` y se convierte la columna geometry a algo raro usando la función `wkt.loads` convierte el DataFrame en un GeoDataFrame"
   ]
  },
  {
   "cell_type": "code",
   "execution_count": 8,
   "metadata": {},
   "outputs": [],
   "source": [
    "import geopandas\n",
    "from shapely import wkt\n",
    "from shapely.geometry import Point, Polygon"
   ]
  },
  {
   "cell_type": "code",
   "execution_count": 9,
   "metadata": {},
   "outputs": [
    {
     "data": {
      "text/plain": [
       "0      POLYGON ((-73.9760507905698 40.6312841471042, ...\n",
       "1      POLYGON ((-73.79493384594591 40.7578063026709,...\n",
       "2      POLYGON ((-73.7757397458527 40.7433339175923, ...\n",
       "3      POLYGON ((-73.8037916164017 40.7756183875692, ...\n",
       "4      POLYGON ((-73.86109864852619 40.7636727485249,...\n",
       "                             ...                        \n",
       "190    POLYGON ((-73.9380478369022 40.7808378163815, ...\n",
       "191    POLYGON ((-73.9350544306231 40.7916954772443, ...\n",
       "192    POLYGON ((-74.010929861053 40.684499723222, -7...\n",
       "193    POLYGON ((-73.8587260603544 40.7357169097371, ...\n",
       "194    POLYGON ((-73.8679110448243 40.7449419841195, ...\n",
       "Name: geometry, Length: 195, dtype: object"
      ]
     },
     "execution_count": 9,
     "metadata": {},
     "output_type": "execute_result"
    }
   ],
   "source": [
    "ntas_df['geometry']"
   ]
  },
  {
   "cell_type": "markdown",
   "metadata": {},
   "source": [
    "Conversión a GeoDataFrame"
   ]
  },
  {
   "cell_type": "code",
   "execution_count": 10,
   "metadata": {},
   "outputs": [],
   "source": [
    "ntas_df['geometry'] = ntas_df['geometry'].apply(wkt.loads) # Esta línea es mágica (string a POLYGON?)\n",
    "gdf = geopandas.GeoDataFrame(ntas_df, geometry='geometry')"
   ]
  },
  {
   "cell_type": "code",
   "execution_count": 11,
   "metadata": {},
   "outputs": [
    {
     "name": "stdout",
     "output_type": "stream",
     "text": [
      "   Unnamed: 0  name                                           geometry\n",
      "0           0  BK88  POLYGON ((-73.9760507905698 40.6312841471042, ...\n",
      "1           1  QN52  POLYGON ((-73.79493384594591 40.7578063026709,...\n",
      "2           2  QN48  POLYGON ((-73.7757397458527 40.7433339175923, ...\n",
      "3           3  QN51  POLYGON ((-73.8037916164017 40.7756183875692, ...\n",
      "4           4  QN27  POLYGON ((-73.86109864852619 40.7636727485249,...\n"
     ]
    }
   ],
   "source": [
    "print(gdf.head())"
   ]
  },
  {
   "cell_type": "markdown",
   "metadata": {},
   "source": [
    "Grafica el GeoDataFrame"
   ]
  },
  {
   "cell_type": "code",
   "execution_count": 12,
   "metadata": {},
   "outputs": [
    {
     "data": {
      "image/png": "[encoded data removed]",
      "text/plain": [
       "<matplotlib.figure.Figure at 0x158934213c8>"
      ]
     },
     "metadata": {},
     "output_type": "display_data"
    }
   ],
   "source": [
    "gdf.plot();"
   ]
  },
  {
   "cell_type": "markdown",
   "metadata": {},
   "source": [
    "## Algunas pruebas con puntos"
   ]
  },
  {
   "cell_type": "code",
   "execution_count": 13,
   "metadata": {},
   "outputs": [
    {
     "data": {
      "image/svg+xml": [
       "<svg xmlns=\"http://www.w3.org/2000/svg\" xmlns:xlink=\"http://www.w3.org/1999/xlink\" width=\"100.0\" height=\"100.0\" viewBox=\"-74.99 39.635 2.0 2.0\" preserveAspectRatio=\"xMinYMin meet\"><g transform=\"matrix(1,0,0,-1,0,81.27)\"><circle cx=\"-73.99\" cy=\"40.635\" r=\"0.06\" stroke=\"#555555\" stroke-width=\"0.02\" fill=\"#66cc99\" opacity=\"0.6\" /></g></svg>"
      ],
      "text/plain": [
       "<shapely.geometry.point.Point at 0x15893f8c550>"
      ]
     },
     "execution_count": 13,
     "metadata": {},
     "output_type": "execute_result"
    }
   ],
   "source": [
    "punto = Point(-73.990,40.635)\n",
    "punto"
   ]
  },
  {
   "cell_type": "code",
   "execution_count": 14,
   "metadata": {},
   "outputs": [
    {
     "data": {
      "text/plain": [
       "0    BK88\n",
       "Name: name, dtype: object"
      ]
     },
     "execution_count": 14,
     "metadata": {},
     "output_type": "execute_result"
    }
   ],
   "source": [
    "arr_puntos = [punto.within(gdf['geometry'][i]) for i in range(len(gdf))]\n",
    "gdf['name'][arr_puntos]"
   ]
  },
  {
   "cell_type": "code",
   "execution_count": 15,
   "metadata": {},
   "outputs": [
    {
     "data": {
      "text/plain": [
       "['BK88']"
      ]
     },
     "execution_count": 15,
     "metadata": {},
     "output_type": "execute_result"
    }
   ],
   "source": [
    "list(gdf.loc[arr_puntos, 'name'])"
   ]
  },
  {
   "cell_type": "markdown",
   "metadata": {},
   "source": [
    "Función a la que le entra un punto y retorna un arreglo con los NTAs asociados (no óptimo)"
   ]
  },
  {
   "cell_type": "code",
   "execution_count": 16,
   "metadata": {},
   "outputs": [],
   "source": [
    "def point_to_NTA(point):\n",
    "    arr_puntos = [point.within(gdf['geometry'][i]) for i in range(len(gdf))]\n",
    "    return(list(gdf.loc[arr_puntos, 'name']))"
   ]
  },
  {
   "cell_type": "code",
   "execution_count": 17,
   "metadata": {},
   "outputs": [
    {
     "data": {
      "text/plain": [
       "['BK88']"
      ]
     },
     "execution_count": 17,
     "metadata": {},
     "output_type": "execute_result"
    }
   ],
   "source": [
    "point_to_NTA(punto)"
   ]
  },
  {
   "cell_type": "markdown",
   "metadata": {},
   "source": [
    "# Lectura de Uber2014"
   ]
  },
  {
   "cell_type": "code",
   "execution_count": 18,
   "metadata": {},
   "outputs": [],
   "source": [
    "trips_2014 = pd.read_csv('uber_trips_2014.csv.gz')"
   ]
  },
  {
   "cell_type": "code",
   "execution_count": 19,
   "metadata": {},
   "outputs": [
    {
     "data": {
      "text/html": [
       "<div>\n",
       "<style scoped>\n",
       "    .dataframe tbody tr th:only-of-type {\n",
       "        vertical-align: middle;\n",
       "    }\n",
       "\n",
       "    .dataframe tbody tr th {\n",
       "        vertical-align: top;\n",
       "    }\n",
       "\n",
       "    .dataframe thead th {\n",
       "        text-align: right;\n",
       "    }\n",
       "</style>\n",
       "<table border=\"1\" class=\"dataframe\">\n",
       "  <thead>\n",
       "    <tr style=\"text-align: right;\">\n",
       "      <th></th>\n",
       "      <th>pickup_datetime</th>\n",
       "      <th>pickup_latitude</th>\n",
       "      <th>pickup_longitude</th>\n",
       "      <th>base</th>\n",
       "    </tr>\n",
       "  </thead>\n",
       "  <tbody>\n",
       "    <tr>\n",
       "      <td>0</td>\n",
       "      <td>4/1/14 0:11</td>\n",
       "      <td>40.7690</td>\n",
       "      <td>-73.9549</td>\n",
       "      <td>B02512</td>\n",
       "    </tr>\n",
       "    <tr>\n",
       "      <td>1</td>\n",
       "      <td>4/1/14 0:17</td>\n",
       "      <td>40.7267</td>\n",
       "      <td>-74.0345</td>\n",
       "      <td>B02512</td>\n",
       "    </tr>\n",
       "    <tr>\n",
       "      <td>2</td>\n",
       "      <td>4/1/14 0:21</td>\n",
       "      <td>40.7316</td>\n",
       "      <td>-73.9873</td>\n",
       "      <td>B02512</td>\n",
       "    </tr>\n",
       "    <tr>\n",
       "      <td>3</td>\n",
       "      <td>4/1/14 0:28</td>\n",
       "      <td>40.7588</td>\n",
       "      <td>-73.9776</td>\n",
       "      <td>B02512</td>\n",
       "    </tr>\n",
       "    <tr>\n",
       "      <td>4</td>\n",
       "      <td>4/1/14 0:33</td>\n",
       "      <td>40.7594</td>\n",
       "      <td>-73.9722</td>\n",
       "      <td>B02512</td>\n",
       "    </tr>\n",
       "  </tbody>\n",
       "</table>\n",
       "</div>"
      ],
      "text/plain": [
       "  pickup_datetime  pickup_latitude  pickup_longitude    base\n",
       "0     4/1/14 0:11          40.7690          -73.9549  B02512\n",
       "1     4/1/14 0:17          40.7267          -74.0345  B02512\n",
       "2     4/1/14 0:21          40.7316          -73.9873  B02512\n",
       "3     4/1/14 0:28          40.7588          -73.9776  B02512\n",
       "4     4/1/14 0:33          40.7594          -73.9722  B02512"
      ]
     },
     "execution_count": 19,
     "metadata": {},
     "output_type": "execute_result"
    }
   ],
   "source": [
    "trips_2014.head()"
   ]
  },
  {
   "cell_type": "code",
   "execution_count": 20,
   "metadata": {},
   "outputs": [],
   "source": [
    "geo_trips_2014 = trips_2014.copy()"
   ]
  },
  {
   "cell_type": "markdown",
   "metadata": {},
   "source": [
    "# Conversión de `pickup_longitude` y `pickup_latitude` a Point"
   ]
  },
  {
   "cell_type": "code",
   "execution_count": 21,
   "metadata": {},
   "outputs": [
    {
     "data": {
      "text/plain": [
       "pandas.core.frame.DataFrame"
      ]
     },
     "execution_count": 21,
     "metadata": {},
     "output_type": "execute_result"
    }
   ],
   "source": [
    "geo_trips_2014[\"geometry\"] = geo_trips_2014.apply(lambda row: Point(row[\"pickup_longitude\"], row[\"pickup_latitude\"]), axis=1)\n",
    "type(geo_trips_2014)"
   ]
  },
  {
   "cell_type": "code",
   "execution_count": 22,
   "metadata": {},
   "outputs": [
    {
     "data": {
      "text/html": [
       "<div>\n",
       "<style scoped>\n",
       "    .dataframe tbody tr th:only-of-type {\n",
       "        vertical-align: middle;\n",
       "    }\n",
       "\n",
       "    .dataframe tbody tr th {\n",
       "        vertical-align: top;\n",
       "    }\n",
       "\n",
       "    .dataframe thead th {\n",
       "        text-align: right;\n",
       "    }\n",
       "</style>\n",
       "<table border=\"1\" class=\"dataframe\">\n",
       "  <thead>\n",
       "    <tr style=\"text-align: right;\">\n",
       "      <th></th>\n",
       "      <th>pickup_datetime</th>\n",
       "      <th>pickup_latitude</th>\n",
       "      <th>pickup_longitude</th>\n",
       "      <th>base</th>\n",
       "      <th>geometry</th>\n",
       "    </tr>\n",
       "  </thead>\n",
       "  <tbody>\n",
       "    <tr>\n",
       "      <td>0</td>\n",
       "      <td>4/1/14 0:11</td>\n",
       "      <td>40.7690</td>\n",
       "      <td>-73.9549</td>\n",
       "      <td>B02512</td>\n",
       "      <td>POINT (-73.95489999999999 40.769)</td>\n",
       "    </tr>\n",
       "    <tr>\n",
       "      <td>1</td>\n",
       "      <td>4/1/14 0:17</td>\n",
       "      <td>40.7267</td>\n",
       "      <td>-74.0345</td>\n",
       "      <td>B02512</td>\n",
       "      <td>POINT (-74.03449999999999 40.7267)</td>\n",
       "    </tr>\n",
       "    <tr>\n",
       "      <td>2</td>\n",
       "      <td>4/1/14 0:21</td>\n",
       "      <td>40.7316</td>\n",
       "      <td>-73.9873</td>\n",
       "      <td>B02512</td>\n",
       "      <td>POINT (-73.9873 40.7316)</td>\n",
       "    </tr>\n",
       "    <tr>\n",
       "      <td>3</td>\n",
       "      <td>4/1/14 0:28</td>\n",
       "      <td>40.7588</td>\n",
       "      <td>-73.9776</td>\n",
       "      <td>B02512</td>\n",
       "      <td>POINT (-73.9776 40.7588)</td>\n",
       "    </tr>\n",
       "    <tr>\n",
       "      <td>4</td>\n",
       "      <td>4/1/14 0:33</td>\n",
       "      <td>40.7594</td>\n",
       "      <td>-73.9722</td>\n",
       "      <td>B02512</td>\n",
       "      <td>POINT (-73.9722 40.7594)</td>\n",
       "    </tr>\n",
       "    <tr>\n",
       "      <td>...</td>\n",
       "      <td>...</td>\n",
       "      <td>...</td>\n",
       "      <td>...</td>\n",
       "      <td>...</td>\n",
       "      <td>...</td>\n",
       "    </tr>\n",
       "    <tr>\n",
       "      <td>4534322</td>\n",
       "      <td>9/30/2014 22:57:00</td>\n",
       "      <td>40.7668</td>\n",
       "      <td>-73.9845</td>\n",
       "      <td>B02764</td>\n",
       "      <td>POINT (-73.9845 40.7668)</td>\n",
       "    </tr>\n",
       "    <tr>\n",
       "      <td>4534323</td>\n",
       "      <td>9/30/2014 22:57:00</td>\n",
       "      <td>40.6911</td>\n",
       "      <td>-74.1773</td>\n",
       "      <td>B02764</td>\n",
       "      <td>POINT (-74.1773 40.6911)</td>\n",
       "    </tr>\n",
       "    <tr>\n",
       "      <td>4534324</td>\n",
       "      <td>9/30/2014 22:58:00</td>\n",
       "      <td>40.8519</td>\n",
       "      <td>-73.9319</td>\n",
       "      <td>B02764</td>\n",
       "      <td>POINT (-73.9319 40.8519)</td>\n",
       "    </tr>\n",
       "    <tr>\n",
       "      <td>4534325</td>\n",
       "      <td>9/30/2014 22:58:00</td>\n",
       "      <td>40.7081</td>\n",
       "      <td>-74.0066</td>\n",
       "      <td>B02764</td>\n",
       "      <td>POINT (-74.00660000000001 40.7081)</td>\n",
       "    </tr>\n",
       "    <tr>\n",
       "      <td>4534326</td>\n",
       "      <td>9/30/2014 22:58:00</td>\n",
       "      <td>40.7140</td>\n",
       "      <td>-73.9496</td>\n",
       "      <td>B02764</td>\n",
       "      <td>POINT (-73.9496 40.714)</td>\n",
       "    </tr>\n",
       "  </tbody>\n",
       "</table>\n",
       "<p>4534327 rows × 5 columns</p>\n",
       "</div>"
      ],
      "text/plain": [
       "            pickup_datetime  pickup_latitude  pickup_longitude    base  \\\n",
       "0               4/1/14 0:11          40.7690          -73.9549  B02512   \n",
       "1               4/1/14 0:17          40.7267          -74.0345  B02512   \n",
       "2               4/1/14 0:21          40.7316          -73.9873  B02512   \n",
       "3               4/1/14 0:28          40.7588          -73.9776  B02512   \n",
       "4               4/1/14 0:33          40.7594          -73.9722  B02512   \n",
       "...                     ...              ...               ...     ...   \n",
       "4534322  9/30/2014 22:57:00          40.7668          -73.9845  B02764   \n",
       "4534323  9/30/2014 22:57:00          40.6911          -74.1773  B02764   \n",
       "4534324  9/30/2014 22:58:00          40.8519          -73.9319  B02764   \n",
       "4534325  9/30/2014 22:58:00          40.7081          -74.0066  B02764   \n",
       "4534326  9/30/2014 22:58:00          40.7140          -73.9496  B02764   \n",
       "\n",
       "                                   geometry  \n",
       "0         POINT (-73.95489999999999 40.769)  \n",
       "1        POINT (-74.03449999999999 40.7267)  \n",
       "2                  POINT (-73.9873 40.7316)  \n",
       "3                  POINT (-73.9776 40.7588)  \n",
       "4                  POINT (-73.9722 40.7594)  \n",
       "...                                     ...  \n",
       "4534322            POINT (-73.9845 40.7668)  \n",
       "4534323            POINT (-74.1773 40.6911)  \n",
       "4534324            POINT (-73.9319 40.8519)  \n",
       "4534325  POINT (-74.00660000000001 40.7081)  \n",
       "4534326             POINT (-73.9496 40.714)  \n",
       "\n",
       "[4534327 rows x 5 columns]"
      ]
     },
     "execution_count": 22,
     "metadata": {},
     "output_type": "execute_result"
    }
   ],
   "source": [
    "geo_trips_2014"
   ]
  },
  {
   "cell_type": "code",
   "execution_count": 23,
   "metadata": {},
   "outputs": [
    {
     "data": {
      "text/plain": [
       "geopandas.geodataframe.GeoDataFrame"
      ]
     },
     "execution_count": 23,
     "metadata": {},
     "output_type": "execute_result"
    }
   ],
   "source": [
    "geo_trips_2014_ready = geopandas.GeoDataFrame(geo_trips_2014, geometry='geometry')\n",
    "type(geo_trips_2014_ready)"
   ]
  },
  {
   "cell_type": "code",
   "execution_count": 24,
   "metadata": {},
   "outputs": [],
   "source": [
    "# geo_trips_2014_ready.plot();"
   ]
  },
  {
   "cell_type": "markdown",
   "metadata": {},
   "source": [
    "# Cruce de Uber 2014 con Geographic"
   ]
  },
  {
   "cell_type": "code",
   "execution_count": 25,
   "metadata": {},
   "outputs": [],
   "source": [
    "points = geo_trips_2014_ready\n",
    "polys = gdf\n",
    "pointInPoly = geopandas.sjoin(points, polys, op='within')"
   ]
  },
  {
   "cell_type": "code",
   "execution_count": 26,
   "metadata": {},
   "outputs": [
    {
     "data": {
      "text/html": [
       "<div>\n",
       "<style scoped>\n",
       "    .dataframe tbody tr th:only-of-type {\n",
       "        vertical-align: middle;\n",
       "    }\n",
       "\n",
       "    .dataframe tbody tr th {\n",
       "        vertical-align: top;\n",
       "    }\n",
       "\n",
       "    .dataframe thead th {\n",
       "        text-align: right;\n",
       "    }\n",
       "</style>\n",
       "<table border=\"1\" class=\"dataframe\">\n",
       "  <thead>\n",
       "    <tr style=\"text-align: right;\">\n",
       "      <th></th>\n",
       "      <th>pickup_datetime</th>\n",
       "      <th>pickup_latitude</th>\n",
       "      <th>pickup_longitude</th>\n",
       "      <th>base</th>\n",
       "      <th>geometry</th>\n",
       "      <th>index_right</th>\n",
       "      <th>Unnamed: 0</th>\n",
       "      <th>name</th>\n",
       "    </tr>\n",
       "  </thead>\n",
       "  <tbody>\n",
       "    <tr>\n",
       "      <td>2</td>\n",
       "      <td>4/1/14 0:21</td>\n",
       "      <td>40.7316</td>\n",
       "      <td>-73.9873</td>\n",
       "      <td>B02512</td>\n",
       "      <td>POINT (-73.9873 40.7316)</td>\n",
       "      <td>150</td>\n",
       "      <td>150</td>\n",
       "      <td>MN22</td>\n",
       "    </tr>\n",
       "    <tr>\n",
       "      <td>10</td>\n",
       "      <td>4/1/14 1:19</td>\n",
       "      <td>40.7256</td>\n",
       "      <td>-73.9869</td>\n",
       "      <td>B02512</td>\n",
       "      <td>POINT (-73.98690000000001 40.7256)</td>\n",
       "      <td>150</td>\n",
       "      <td>150</td>\n",
       "      <td>MN22</td>\n",
       "    </tr>\n",
       "    <tr>\n",
       "      <td>12</td>\n",
       "      <td>4/1/14 1:49</td>\n",
       "      <td>40.7271</td>\n",
       "      <td>-73.9803</td>\n",
       "      <td>B02512</td>\n",
       "      <td>POINT (-73.9803 40.7271)</td>\n",
       "      <td>150</td>\n",
       "      <td>150</td>\n",
       "      <td>MN22</td>\n",
       "    </tr>\n",
       "    <tr>\n",
       "      <td>23</td>\n",
       "      <td>4/1/14 4:19</td>\n",
       "      <td>40.7250</td>\n",
       "      <td>-73.9844</td>\n",
       "      <td>B02512</td>\n",
       "      <td>POINT (-73.98439999999999 40.725)</td>\n",
       "      <td>150</td>\n",
       "      <td>150</td>\n",
       "      <td>MN22</td>\n",
       "    </tr>\n",
       "    <tr>\n",
       "      <td>75</td>\n",
       "      <td>4/1/14 6:32</td>\n",
       "      <td>40.7322</td>\n",
       "      <td>-73.9863</td>\n",
       "      <td>B02512</td>\n",
       "      <td>POINT (-73.9863 40.7322)</td>\n",
       "      <td>150</td>\n",
       "      <td>150</td>\n",
       "      <td>MN22</td>\n",
       "    </tr>\n",
       "  </tbody>\n",
       "</table>\n",
       "</div>"
      ],
      "text/plain": [
       "   pickup_datetime  pickup_latitude  pickup_longitude    base  \\\n",
       "2      4/1/14 0:21          40.7316          -73.9873  B02512   \n",
       "10     4/1/14 1:19          40.7256          -73.9869  B02512   \n",
       "12     4/1/14 1:49          40.7271          -73.9803  B02512   \n",
       "23     4/1/14 4:19          40.7250          -73.9844  B02512   \n",
       "75     4/1/14 6:32          40.7322          -73.9863  B02512   \n",
       "\n",
       "                              geometry  index_right  Unnamed: 0  name  \n",
       "2             POINT (-73.9873 40.7316)          150         150  MN22  \n",
       "10  POINT (-73.98690000000001 40.7256)          150         150  MN22  \n",
       "12            POINT (-73.9803 40.7271)          150         150  MN22  \n",
       "23   POINT (-73.98439999999999 40.725)          150         150  MN22  \n",
       "75            POINT (-73.9863 40.7322)          150         150  MN22  "
      ]
     },
     "execution_count": 26,
     "metadata": {},
     "output_type": "execute_result"
    }
   ],
   "source": [
    "pointInPoly.head()"
   ]
  },
  {
   "cell_type": "code",
   "execution_count": 27,
   "metadata": {},
   "outputs": [],
   "source": [
    "pointInPoly.to_csv('geo_trips_2014.csv')"
   ]
  },
  {
   "cell_type": "code",
   "execution_count": 70,
   "metadata": {},
   "outputs": [
    {
     "data": {
      "text/html": [
       "<div>\n",
       "<style scoped>\n",
       "    .dataframe tbody tr th:only-of-type {\n",
       "        vertical-align: middle;\n",
       "    }\n",
       "\n",
       "    .dataframe tbody tr th {\n",
       "        vertical-align: top;\n",
       "    }\n",
       "\n",
       "    .dataframe thead th {\n",
       "        text-align: right;\n",
       "    }\n",
       "</style>\n",
       "<table border=\"1\" class=\"dataframe\">\n",
       "  <thead>\n",
       "    <tr style=\"text-align: right;\">\n",
       "      <th></th>\n",
       "      <th>pickup_datetime</th>\n",
       "      <th>pickup_latitude</th>\n",
       "      <th>pickup_longitude</th>\n",
       "      <th>base</th>\n",
       "      <th>geometry</th>\n",
       "      <th>name</th>\n",
       "    </tr>\n",
       "  </thead>\n",
       "  <tbody>\n",
       "    <tr>\n",
       "      <td>0</td>\n",
       "      <td>4/1/14 0:21</td>\n",
       "      <td>40.7316</td>\n",
       "      <td>-73.9873</td>\n",
       "      <td>B02512</td>\n",
       "      <td>POINT (-73.9873 40.7316)</td>\n",
       "      <td>MN22</td>\n",
       "    </tr>\n",
       "    <tr>\n",
       "      <td>1</td>\n",
       "      <td>4/1/14 1:19</td>\n",
       "      <td>40.7256</td>\n",
       "      <td>-73.9869</td>\n",
       "      <td>B02512</td>\n",
       "      <td>POINT (-73.98690000000001 40.7256)</td>\n",
       "      <td>MN22</td>\n",
       "    </tr>\n",
       "    <tr>\n",
       "      <td>2</td>\n",
       "      <td>4/1/14 1:49</td>\n",
       "      <td>40.7271</td>\n",
       "      <td>-73.9803</td>\n",
       "      <td>B02512</td>\n",
       "      <td>POINT (-73.9803 40.7271)</td>\n",
       "      <td>MN22</td>\n",
       "    </tr>\n",
       "    <tr>\n",
       "      <td>3</td>\n",
       "      <td>4/1/14 4:19</td>\n",
       "      <td>40.7250</td>\n",
       "      <td>-73.9844</td>\n",
       "      <td>B02512</td>\n",
       "      <td>POINT (-73.98439999999999 40.725)</td>\n",
       "      <td>MN22</td>\n",
       "    </tr>\n",
       "    <tr>\n",
       "      <td>4</td>\n",
       "      <td>4/1/14 6:32</td>\n",
       "      <td>40.7322</td>\n",
       "      <td>-73.9863</td>\n",
       "      <td>B02512</td>\n",
       "      <td>POINT (-73.9863 40.7322)</td>\n",
       "      <td>MN22</td>\n",
       "    </tr>\n",
       "  </tbody>\n",
       "</table>\n",
       "</div>"
      ],
      "text/plain": [
       "  pickup_datetime  pickup_latitude  pickup_longitude    base  \\\n",
       "0     4/1/14 0:21          40.7316          -73.9873  B02512   \n",
       "1     4/1/14 1:19          40.7256          -73.9869  B02512   \n",
       "2     4/1/14 1:49          40.7271          -73.9803  B02512   \n",
       "3     4/1/14 4:19          40.7250          -73.9844  B02512   \n",
       "4     4/1/14 6:32          40.7322          -73.9863  B02512   \n",
       "\n",
       "                             geometry  name  \n",
       "0            POINT (-73.9873 40.7316)  MN22  \n",
       "1  POINT (-73.98690000000001 40.7256)  MN22  \n",
       "2            POINT (-73.9803 40.7271)  MN22  \n",
       "3   POINT (-73.98439999999999 40.725)  MN22  \n",
       "4            POINT (-73.9863 40.7322)  MN22  "
      ]
     },
     "execution_count": 70,
     "metadata": {},
     "output_type": "execute_result"
    }
   ],
   "source": [
    "uber_2014_left = pointInPoly.drop(['index_right', 'Unnamed: 0'], axis=1)\n",
    "uber_2014_left = uber_2014_left.reset_index(drop=True)\n",
    "uber_2014_left.head()"
   ]
  },
  {
   "cell_type": "code",
   "execution_count": 71,
   "metadata": {},
   "outputs": [
    {
     "data": {
      "text/plain": [
       "3782548"
      ]
     },
     "execution_count": 71,
     "metadata": {},
     "output_type": "execute_result"
    }
   ],
   "source": [
    "len(pointInPoly)"
   ]
  },
  {
   "cell_type": "code",
   "execution_count": 72,
   "metadata": {},
   "outputs": [
    {
     "data": {
      "text/plain": [
       "4534327"
      ]
     },
     "execution_count": 72,
     "metadata": {},
     "output_type": "execute_result"
    }
   ],
   "source": [
    "len(trips_2014)"
   ]
  },
  {
   "cell_type": "code",
   "execution_count": 73,
   "metadata": {},
   "outputs": [
    {
     "data": {
      "text/plain": [
       "0.16579726164434105"
      ]
     },
     "execution_count": 73,
     "metadata": {},
     "output_type": "execute_result"
    }
   ],
   "source": [
    "1 - len(pointInPoly)/len(trips_2014)"
   ]
  },
  {
   "cell_type": "markdown",
   "metadata": {},
   "source": [
    "# JOIN de uber2014 con demographic"
   ]
  },
  {
   "cell_type": "code",
   "execution_count": 74,
   "metadata": {},
   "outputs": [
    {
     "data": {
      "text/plain": [
       "0                 4/1/14 0:21\n",
       "1                 4/1/14 1:19\n",
       "2                 4/1/14 1:49\n",
       "3                 4/1/14 4:19\n",
       "4                 4/1/14 6:32\n",
       "                  ...        \n",
       "3782543     9/6/2014 11:41:00\n",
       "3782544    9/17/2014 16:32:00\n",
       "3782545     7/6/2014 19:20:00\n",
       "3782546    8/15/2014 23:00:00\n",
       "3782547    8/22/2014 16:56:00\n",
       "Name: pickup_datetime, Length: 3782548, dtype: object"
      ]
     },
     "execution_count": 74,
     "metadata": {},
     "output_type": "execute_result"
    }
   ],
   "source": [
    "import re\n",
    "\n",
    "uber_2014_left['pickup_datetime'] "
   ]
  },
  {
   "cell_type": "markdown",
   "metadata": {},
   "source": [
    "Probando la regex de arreglar las fechas"
   ]
  },
  {
   "cell_type": "code",
   "execution_count": 75,
   "metadata": {},
   "outputs": [
    {
     "data": {
      "text/plain": [
       "'4/1/2014 6:32:00'"
      ]
     },
     "execution_count": 75,
     "metadata": {},
     "output_type": "execute_result"
    }
   ],
   "source": [
    "fechita = \"4/1/14 6:32\"\n",
    "re.sub(r\"(\\d+/\\d+/)(\\d{2}) (\\d+:\\d+)\", r\"\\g<1>20\\2 \\3:00\", fechita)"
   ]
  },
  {
   "cell_type": "markdown",
   "metadata": {},
   "source": [
    "Arreglando las fechas en el dataframe"
   ]
  },
  {
   "cell_type": "code",
   "execution_count": 79,
   "metadata": {},
   "outputs": [],
   "source": [
    "uber_2014_left['pickup_datetime'] = [re.sub(r\"(\\d+/\\d+/)(\\d{2}) (\\d+:\\d+)\", r\"\\g<1>20\\2 \\3:00\", str(x)) for x in uber_2014_left['pickup_datetime']]"
   ]
  },
  {
   "cell_type": "code",
   "execution_count": 80,
   "metadata": {},
   "outputs": [],
   "source": [
    "uber_2014_left['pickup_datetime'] = pd.to_datetime(uber_2014_left['pickup_datetime'], format='%m/%d/%Y %H:%M:%S')"
   ]
  },
  {
   "cell_type": "code",
   "execution_count": 82,
   "metadata": {},
   "outputs": [
    {
     "data": {
      "text/html": [
       "<div>\n",
       "<style scoped>\n",
       "    .dataframe tbody tr th:only-of-type {\n",
       "        vertical-align: middle;\n",
       "    }\n",
       "\n",
       "    .dataframe tbody tr th {\n",
       "        vertical-align: top;\n",
       "    }\n",
       "\n",
       "    .dataframe thead th {\n",
       "        text-align: right;\n",
       "    }\n",
       "</style>\n",
       "<table border=\"1\" class=\"dataframe\">\n",
       "  <thead>\n",
       "    <tr style=\"text-align: right;\">\n",
       "      <th></th>\n",
       "      <th>pickup_datetime</th>\n",
       "      <th>pickup_latitude</th>\n",
       "      <th>pickup_longitude</th>\n",
       "      <th>base</th>\n",
       "      <th>geometry</th>\n",
       "      <th>name</th>\n",
       "    </tr>\n",
       "  </thead>\n",
       "  <tbody>\n",
       "    <tr>\n",
       "      <td>0</td>\n",
       "      <td>2014-04-01 00:21:00</td>\n",
       "      <td>40.7316</td>\n",
       "      <td>-73.9873</td>\n",
       "      <td>B02512</td>\n",
       "      <td>POINT (-73.9873 40.7316)</td>\n",
       "      <td>MN22</td>\n",
       "    </tr>\n",
       "    <tr>\n",
       "      <td>1</td>\n",
       "      <td>2014-04-01 01:19:00</td>\n",
       "      <td>40.7256</td>\n",
       "      <td>-73.9869</td>\n",
       "      <td>B02512</td>\n",
       "      <td>POINT (-73.98690000000001 40.7256)</td>\n",
       "      <td>MN22</td>\n",
       "    </tr>\n",
       "    <tr>\n",
       "      <td>2</td>\n",
       "      <td>2014-04-01 01:49:00</td>\n",
       "      <td>40.7271</td>\n",
       "      <td>-73.9803</td>\n",
       "      <td>B02512</td>\n",
       "      <td>POINT (-73.9803 40.7271)</td>\n",
       "      <td>MN22</td>\n",
       "    </tr>\n",
       "    <tr>\n",
       "      <td>3</td>\n",
       "      <td>2014-04-01 04:19:00</td>\n",
       "      <td>40.7250</td>\n",
       "      <td>-73.9844</td>\n",
       "      <td>B02512</td>\n",
       "      <td>POINT (-73.98439999999999 40.725)</td>\n",
       "      <td>MN22</td>\n",
       "    </tr>\n",
       "    <tr>\n",
       "      <td>4</td>\n",
       "      <td>2014-04-01 06:32:00</td>\n",
       "      <td>40.7322</td>\n",
       "      <td>-73.9863</td>\n",
       "      <td>B02512</td>\n",
       "      <td>POINT (-73.9863 40.7322)</td>\n",
       "      <td>MN22</td>\n",
       "    </tr>\n",
       "  </tbody>\n",
       "</table>\n",
       "</div>"
      ],
      "text/plain": [
       "      pickup_datetime  pickup_latitude  pickup_longitude    base  \\\n",
       "0 2014-04-01 00:21:00          40.7316          -73.9873  B02512   \n",
       "1 2014-04-01 01:19:00          40.7256          -73.9869  B02512   \n",
       "2 2014-04-01 01:49:00          40.7271          -73.9803  B02512   \n",
       "3 2014-04-01 04:19:00          40.7250          -73.9844  B02512   \n",
       "4 2014-04-01 06:32:00          40.7322          -73.9863  B02512   \n",
       "\n",
       "                             geometry  name  \n",
       "0            POINT (-73.9873 40.7316)  MN22  \n",
       "1  POINT (-73.98690000000001 40.7256)  MN22  \n",
       "2            POINT (-73.9803 40.7271)  MN22  \n",
       "3   POINT (-73.98439999999999 40.725)  MN22  \n",
       "4            POINT (-73.9863 40.7322)  MN22  "
      ]
     },
     "execution_count": 82,
     "metadata": {},
     "output_type": "execute_result"
    }
   ],
   "source": [
    "uber_2014_left.head()"
   ]
  },
  {
   "cell_type": "code",
   "execution_count": 85,
   "metadata": {},
   "outputs": [
    {
     "data": {
      "text/html": [
       "<div>\n",
       "<style scoped>\n",
       "    .dataframe tbody tr th:only-of-type {\n",
       "        vertical-align: middle;\n",
       "    }\n",
       "\n",
       "    .dataframe tbody tr th {\n",
       "        vertical-align: top;\n",
       "    }\n",
       "\n",
       "    .dataframe thead th {\n",
       "        text-align: right;\n",
       "    }\n",
       "</style>\n",
       "<table border=\"1\" class=\"dataframe\">\n",
       "  <thead>\n",
       "    <tr style=\"text-align: right;\">\n",
       "      <th></th>\n",
       "      <th>nta_name</th>\n",
       "      <th>borough</th>\n",
       "      <th>nta_code</th>\n",
       "      <th>population</th>\n",
       "      <th>under_5_years</th>\n",
       "      <th>5-9_years</th>\n",
       "      <th>10-14_years</th>\n",
       "      <th>15-19_years</th>\n",
       "      <th>20-24_years</th>\n",
       "      <th>25-29_years</th>\n",
       "      <th>...</th>\n",
       "      <th>15000_to_24999</th>\n",
       "      <th>25000_to_34999</th>\n",
       "      <th>35000_to_49999</th>\n",
       "      <th>50000_to_74999</th>\n",
       "      <th>75000_to_99999</th>\n",
       "      <th>100000_to_149999</th>\n",
       "      <th>150000_to_199999</th>\n",
       "      <th>200000_or_more</th>\n",
       "      <th>median_income</th>\n",
       "      <th>mean_income</th>\n",
       "    </tr>\n",
       "  </thead>\n",
       "  <tbody>\n",
       "    <tr>\n",
       "      <td>0</td>\n",
       "      <td>Allerton-Pelham Gardens</td>\n",
       "      <td>Bronx</td>\n",
       "      <td>BX31</td>\n",
       "      <td>28903</td>\n",
       "      <td>1679</td>\n",
       "      <td>1706</td>\n",
       "      <td>1763</td>\n",
       "      <td>2039</td>\n",
       "      <td>1964</td>\n",
       "      <td>1703</td>\n",
       "      <td>...</td>\n",
       "      <td>797</td>\n",
       "      <td>773</td>\n",
       "      <td>1160</td>\n",
       "      <td>1764</td>\n",
       "      <td>1155</td>\n",
       "      <td>1562</td>\n",
       "      <td>765</td>\n",
       "      <td>427</td>\n",
       "      <td>61638</td>\n",
       "      <td>78489</td>\n",
       "    </tr>\n",
       "    <tr>\n",
       "      <td>1</td>\n",
       "      <td>Annadale-Huguenot-Prince's Bay-Eltingville</td>\n",
       "      <td>Staten Island</td>\n",
       "      <td>SI01</td>\n",
       "      <td>27770</td>\n",
       "      <td>1397</td>\n",
       "      <td>1698</td>\n",
       "      <td>1817</td>\n",
       "      <td>1880</td>\n",
       "      <td>1720</td>\n",
       "      <td>1594</td>\n",
       "      <td>...</td>\n",
       "      <td>571</td>\n",
       "      <td>405</td>\n",
       "      <td>1008</td>\n",
       "      <td>1523</td>\n",
       "      <td>1346</td>\n",
       "      <td>2075</td>\n",
       "      <td>1086</td>\n",
       "      <td>1151</td>\n",
       "      <td>88288</td>\n",
       "      <td>109187</td>\n",
       "    </tr>\n",
       "    <tr>\n",
       "      <td>2</td>\n",
       "      <td>Arden Heights</td>\n",
       "      <td>Staten Island</td>\n",
       "      <td>SI48</td>\n",
       "      <td>25238</td>\n",
       "      <td>1507</td>\n",
       "      <td>1540</td>\n",
       "      <td>1596</td>\n",
       "      <td>1752</td>\n",
       "      <td>1614</td>\n",
       "      <td>1561</td>\n",
       "      <td>...</td>\n",
       "      <td>337</td>\n",
       "      <td>516</td>\n",
       "      <td>707</td>\n",
       "      <td>1421</td>\n",
       "      <td>1611</td>\n",
       "      <td>2021</td>\n",
       "      <td>1047</td>\n",
       "      <td>740</td>\n",
       "      <td>89570</td>\n",
       "      <td>101627</td>\n",
       "    </tr>\n",
       "    <tr>\n",
       "      <td>3</td>\n",
       "      <td>Astoria</td>\n",
       "      <td>Queens</td>\n",
       "      <td>QN70</td>\n",
       "      <td>78793</td>\n",
       "      <td>3480</td>\n",
       "      <td>3037</td>\n",
       "      <td>3060</td>\n",
       "      <td>3392</td>\n",
       "      <td>6630</td>\n",
       "      <td>11586</td>\n",
       "      <td>...</td>\n",
       "      <td>3673</td>\n",
       "      <td>2816</td>\n",
       "      <td>4725</td>\n",
       "      <td>6463</td>\n",
       "      <td>4557</td>\n",
       "      <td>4698</td>\n",
       "      <td>1627</td>\n",
       "      <td>1197</td>\n",
       "      <td>54882</td>\n",
       "      <td>70094</td>\n",
       "    </tr>\n",
       "    <tr>\n",
       "      <td>4</td>\n",
       "      <td>Auburndale</td>\n",
       "      <td>Queens</td>\n",
       "      <td>QN48</td>\n",
       "      <td>19996</td>\n",
       "      <td>917</td>\n",
       "      <td>966</td>\n",
       "      <td>1063</td>\n",
       "      <td>1168</td>\n",
       "      <td>1214</td>\n",
       "      <td>1307</td>\n",
       "      <td>...</td>\n",
       "      <td>445</td>\n",
       "      <td>632</td>\n",
       "      <td>690</td>\n",
       "      <td>1417</td>\n",
       "      <td>1060</td>\n",
       "      <td>1237</td>\n",
       "      <td>589</td>\n",
       "      <td>433</td>\n",
       "      <td>70772</td>\n",
       "      <td>84402</td>\n",
       "    </tr>\n",
       "  </tbody>\n",
       "</table>\n",
       "<p>5 rows × 33 columns</p>\n",
       "</div>"
      ],
      "text/plain": [
       "                                     nta_name        borough nta_code  \\\n",
       "0                     Allerton-Pelham Gardens          Bronx     BX31   \n",
       "1  Annadale-Huguenot-Prince's Bay-Eltingville  Staten Island     SI01   \n",
       "2                               Arden Heights  Staten Island     SI48   \n",
       "3                                     Astoria         Queens     QN70   \n",
       "4                                  Auburndale         Queens     QN48   \n",
       "\n",
       "   population  under_5_years  5-9_years  10-14_years  15-19_years  \\\n",
       "0       28903           1679       1706         1763         2039   \n",
       "1       27770           1397       1698         1817         1880   \n",
       "2       25238           1507       1540         1596         1752   \n",
       "3       78793           3480       3037         3060         3392   \n",
       "4       19996            917        966         1063         1168   \n",
       "\n",
       "   20-24_years  25-29_years  ...  15000_to_24999  25000_to_34999  \\\n",
       "0         1964         1703  ...             797             773   \n",
       "1         1720         1594  ...             571             405   \n",
       "2         1614         1561  ...             337             516   \n",
       "3         6630        11586  ...            3673            2816   \n",
       "4         1214         1307  ...             445             632   \n",
       "\n",
       "   35000_to_49999  50000_to_74999  75000_to_99999  100000_to_149999  \\\n",
       "0            1160            1764            1155              1562   \n",
       "1            1008            1523            1346              2075   \n",
       "2             707            1421            1611              2021   \n",
       "3            4725            6463            4557              4698   \n",
       "4             690            1417            1060              1237   \n",
       "\n",
       "   150000_to_199999  200000_or_more  median_income  mean_income  \n",
       "0               765             427          61638        78489  \n",
       "1              1086            1151          88288       109187  \n",
       "2              1047             740          89570       101627  \n",
       "3              1627            1197          54882        70094  \n",
       "4               589             433          70772        84402  \n",
       "\n",
       "[5 rows x 33 columns]"
      ]
     },
     "execution_count": 85,
     "metadata": {},
     "output_type": "execute_result"
    }
   ],
   "source": [
    "demography = pd.read_csv(\"demographics.csv\")\n",
    "demography.head()"
   ]
  },
  {
   "cell_type": "code",
   "execution_count": 87,
   "metadata": {},
   "outputs": [
    {
     "data": {
      "text/plain": [
       "(3782548, 6)"
      ]
     },
     "execution_count": 87,
     "metadata": {},
     "output_type": "execute_result"
    }
   ],
   "source": [
    "uber_2014_left.shape"
   ]
  },
  {
   "cell_type": "code",
   "execution_count": 90,
   "metadata": {},
   "outputs": [
    {
     "data": {
      "text/html": [
       "<div>\n",
       "<style scoped>\n",
       "    .dataframe tbody tr th:only-of-type {\n",
       "        vertical-align: middle;\n",
       "    }\n",
       "\n",
       "    .dataframe tbody tr th {\n",
       "        vertical-align: top;\n",
       "    }\n",
       "\n",
       "    .dataframe thead th {\n",
       "        text-align: right;\n",
       "    }\n",
       "</style>\n",
       "<table border=\"1\" class=\"dataframe\">\n",
       "  <thead>\n",
       "    <tr style=\"text-align: right;\">\n",
       "      <th></th>\n",
       "      <th>pickup_datetime</th>\n",
       "      <th>pickup_latitude</th>\n",
       "      <th>pickup_longitude</th>\n",
       "      <th>base</th>\n",
       "      <th>geometry</th>\n",
       "      <th>nta_name</th>\n",
       "      <th>borough</th>\n",
       "      <th>population</th>\n",
       "      <th>under_5_years</th>\n",
       "      <th>5-9_years</th>\n",
       "      <th>...</th>\n",
       "      <th>15000_to_24999</th>\n",
       "      <th>25000_to_34999</th>\n",
       "      <th>35000_to_49999</th>\n",
       "      <th>50000_to_74999</th>\n",
       "      <th>75000_to_99999</th>\n",
       "      <th>100000_to_149999</th>\n",
       "      <th>150000_to_199999</th>\n",
       "      <th>200000_or_more</th>\n",
       "      <th>median_income</th>\n",
       "      <th>mean_income</th>\n",
       "    </tr>\n",
       "    <tr>\n",
       "      <th>name</th>\n",
       "      <th></th>\n",
       "      <th></th>\n",
       "      <th></th>\n",
       "      <th></th>\n",
       "      <th></th>\n",
       "      <th></th>\n",
       "      <th></th>\n",
       "      <th></th>\n",
       "      <th></th>\n",
       "      <th></th>\n",
       "      <th></th>\n",
       "      <th></th>\n",
       "      <th></th>\n",
       "      <th></th>\n",
       "      <th></th>\n",
       "      <th></th>\n",
       "      <th></th>\n",
       "      <th></th>\n",
       "      <th></th>\n",
       "      <th></th>\n",
       "      <th></th>\n",
       "    </tr>\n",
       "  </thead>\n",
       "  <tbody>\n",
       "    <tr>\n",
       "      <td>MN22</td>\n",
       "      <td>2014-04-01 00:21:00</td>\n",
       "      <td>40.7316</td>\n",
       "      <td>-73.9873</td>\n",
       "      <td>B02512</td>\n",
       "      <td>POINT (-73.9873 40.7316)</td>\n",
       "      <td>East Village</td>\n",
       "      <td>Manhattan</td>\n",
       "      <td>44136.0</td>\n",
       "      <td>862.0</td>\n",
       "      <td>617.0</td>\n",
       "      <td>...</td>\n",
       "      <td>2072.0</td>\n",
       "      <td>1524.0</td>\n",
       "      <td>1702.0</td>\n",
       "      <td>3160.0</td>\n",
       "      <td>3057.0</td>\n",
       "      <td>3201.0</td>\n",
       "      <td>2155.0</td>\n",
       "      <td>2478.0</td>\n",
       "      <td>72665.0</td>\n",
       "      <td>100130.0</td>\n",
       "    </tr>\n",
       "    <tr>\n",
       "      <td>MN22</td>\n",
       "      <td>2014-04-01 01:19:00</td>\n",
       "      <td>40.7256</td>\n",
       "      <td>-73.9869</td>\n",
       "      <td>B02512</td>\n",
       "      <td>POINT (-73.98690000000001 40.7256)</td>\n",
       "      <td>East Village</td>\n",
       "      <td>Manhattan</td>\n",
       "      <td>44136.0</td>\n",
       "      <td>862.0</td>\n",
       "      <td>617.0</td>\n",
       "      <td>...</td>\n",
       "      <td>2072.0</td>\n",
       "      <td>1524.0</td>\n",
       "      <td>1702.0</td>\n",
       "      <td>3160.0</td>\n",
       "      <td>3057.0</td>\n",
       "      <td>3201.0</td>\n",
       "      <td>2155.0</td>\n",
       "      <td>2478.0</td>\n",
       "      <td>72665.0</td>\n",
       "      <td>100130.0</td>\n",
       "    </tr>\n",
       "    <tr>\n",
       "      <td>MN22</td>\n",
       "      <td>2014-04-01 01:49:00</td>\n",
       "      <td>40.7271</td>\n",
       "      <td>-73.9803</td>\n",
       "      <td>B02512</td>\n",
       "      <td>POINT (-73.9803 40.7271)</td>\n",
       "      <td>East Village</td>\n",
       "      <td>Manhattan</td>\n",
       "      <td>44136.0</td>\n",
       "      <td>862.0</td>\n",
       "      <td>617.0</td>\n",
       "      <td>...</td>\n",
       "      <td>2072.0</td>\n",
       "      <td>1524.0</td>\n",
       "      <td>1702.0</td>\n",
       "      <td>3160.0</td>\n",
       "      <td>3057.0</td>\n",
       "      <td>3201.0</td>\n",
       "      <td>2155.0</td>\n",
       "      <td>2478.0</td>\n",
       "      <td>72665.0</td>\n",
       "      <td>100130.0</td>\n",
       "    </tr>\n",
       "    <tr>\n",
       "      <td>MN22</td>\n",
       "      <td>2014-04-01 04:19:00</td>\n",
       "      <td>40.7250</td>\n",
       "      <td>-73.9844</td>\n",
       "      <td>B02512</td>\n",
       "      <td>POINT (-73.98439999999999 40.725)</td>\n",
       "      <td>East Village</td>\n",
       "      <td>Manhattan</td>\n",
       "      <td>44136.0</td>\n",
       "      <td>862.0</td>\n",
       "      <td>617.0</td>\n",
       "      <td>...</td>\n",
       "      <td>2072.0</td>\n",
       "      <td>1524.0</td>\n",
       "      <td>1702.0</td>\n",
       "      <td>3160.0</td>\n",
       "      <td>3057.0</td>\n",
       "      <td>3201.0</td>\n",
       "      <td>2155.0</td>\n",
       "      <td>2478.0</td>\n",
       "      <td>72665.0</td>\n",
       "      <td>100130.0</td>\n",
       "    </tr>\n",
       "    <tr>\n",
       "      <td>MN22</td>\n",
       "      <td>2014-04-01 06:32:00</td>\n",
       "      <td>40.7322</td>\n",
       "      <td>-73.9863</td>\n",
       "      <td>B02512</td>\n",
       "      <td>POINT (-73.9863 40.7322)</td>\n",
       "      <td>East Village</td>\n",
       "      <td>Manhattan</td>\n",
       "      <td>44136.0</td>\n",
       "      <td>862.0</td>\n",
       "      <td>617.0</td>\n",
       "      <td>...</td>\n",
       "      <td>2072.0</td>\n",
       "      <td>1524.0</td>\n",
       "      <td>1702.0</td>\n",
       "      <td>3160.0</td>\n",
       "      <td>3057.0</td>\n",
       "      <td>3201.0</td>\n",
       "      <td>2155.0</td>\n",
       "      <td>2478.0</td>\n",
       "      <td>72665.0</td>\n",
       "      <td>100130.0</td>\n",
       "    </tr>\n",
       "  </tbody>\n",
       "</table>\n",
       "<p>5 rows × 37 columns</p>\n",
       "</div>"
      ],
      "text/plain": [
       "         pickup_datetime  pickup_latitude  pickup_longitude    base  \\\n",
       "name                                                                  \n",
       "MN22 2014-04-01 00:21:00          40.7316          -73.9873  B02512   \n",
       "MN22 2014-04-01 01:19:00          40.7256          -73.9869  B02512   \n",
       "MN22 2014-04-01 01:49:00          40.7271          -73.9803  B02512   \n",
       "MN22 2014-04-01 04:19:00          40.7250          -73.9844  B02512   \n",
       "MN22 2014-04-01 06:32:00          40.7322          -73.9863  B02512   \n",
       "\n",
       "                                geometry      nta_name    borough  population  \\\n",
       "name                                                                            \n",
       "MN22            POINT (-73.9873 40.7316)  East Village  Manhattan     44136.0   \n",
       "MN22  POINT (-73.98690000000001 40.7256)  East Village  Manhattan     44136.0   \n",
       "MN22            POINT (-73.9803 40.7271)  East Village  Manhattan     44136.0   \n",
       "MN22   POINT (-73.98439999999999 40.725)  East Village  Manhattan     44136.0   \n",
       "MN22            POINT (-73.9863 40.7322)  East Village  Manhattan     44136.0   \n",
       "\n",
       "      under_5_years  5-9_years  ...  15000_to_24999  25000_to_34999  \\\n",
       "name                            ...                                   \n",
       "MN22          862.0      617.0  ...          2072.0          1524.0   \n",
       "MN22          862.0      617.0  ...          2072.0          1524.0   \n",
       "MN22          862.0      617.0  ...          2072.0          1524.0   \n",
       "MN22          862.0      617.0  ...          2072.0          1524.0   \n",
       "MN22          862.0      617.0  ...          2072.0          1524.0   \n",
       "\n",
       "      35000_to_49999  50000_to_74999  75000_to_99999  100000_to_149999  \\\n",
       "name                                                                     \n",
       "MN22          1702.0          3160.0          3057.0            3201.0   \n",
       "MN22          1702.0          3160.0          3057.0            3201.0   \n",
       "MN22          1702.0          3160.0          3057.0            3201.0   \n",
       "MN22          1702.0          3160.0          3057.0            3201.0   \n",
       "MN22          1702.0          3160.0          3057.0            3201.0   \n",
       "\n",
       "      150000_to_199999  200000_or_more  median_income  mean_income  \n",
       "name                                                                \n",
       "MN22            2155.0          2478.0        72665.0     100130.0  \n",
       "MN22            2155.0          2478.0        72665.0     100130.0  \n",
       "MN22            2155.0          2478.0        72665.0     100130.0  \n",
       "MN22            2155.0          2478.0        72665.0     100130.0  \n",
       "MN22            2155.0          2478.0        72665.0     100130.0  \n",
       "\n",
       "[5 rows x 37 columns]"
      ]
     },
     "execution_count": 90,
     "metadata": {},
     "output_type": "execute_result"
    }
   ],
   "source": [
    "uber_2014_demographic_left = uber_2014_left.set_index('name').join(demography.set_index('nta_code'), on='name')\n",
    "uber_2014_demographic_left.head()"
   ]
  },
  {
   "cell_type": "markdown",
   "metadata": {},
   "source": [
    "# JOIN de uber2014 con demographic con weather"
   ]
  },
  {
   "cell_type": "code",
   "execution_count": 131,
   "metadata": {},
   "outputs": [
    {
     "data": {
      "text/html": [
       "<div>\n",
       "<style scoped>\n",
       "    .dataframe tbody tr th:only-of-type {\n",
       "        vertical-align: middle;\n",
       "    }\n",
       "\n",
       "    .dataframe tbody tr th {\n",
       "        vertical-align: top;\n",
       "    }\n",
       "\n",
       "    .dataframe thead th {\n",
       "        text-align: right;\n",
       "    }\n",
       "</style>\n",
       "<table border=\"1\" class=\"dataframe\">\n",
       "  <thead>\n",
       "    <tr style=\"text-align: right;\">\n",
       "      <th></th>\n",
       "      <th>name</th>\n",
       "      <th>pickup_datetime</th>\n",
       "      <th>pickup_latitude</th>\n",
       "      <th>pickup_longitude</th>\n",
       "      <th>base</th>\n",
       "      <th>geometry</th>\n",
       "      <th>nta_name</th>\n",
       "      <th>borough</th>\n",
       "      <th>population</th>\n",
       "      <th>under_5_years</th>\n",
       "      <th>...</th>\n",
       "      <th>25000_to_34999</th>\n",
       "      <th>35000_to_49999</th>\n",
       "      <th>50000_to_74999</th>\n",
       "      <th>75000_to_99999</th>\n",
       "      <th>100000_to_149999</th>\n",
       "      <th>150000_to_199999</th>\n",
       "      <th>200000_or_more</th>\n",
       "      <th>median_income</th>\n",
       "      <th>mean_income</th>\n",
       "      <th>date_i</th>\n",
       "    </tr>\n",
       "  </thead>\n",
       "  <tbody>\n",
       "    <tr>\n",
       "      <td>0</td>\n",
       "      <td>MN22</td>\n",
       "      <td>2014-04-01 00:21:00</td>\n",
       "      <td>40.7316</td>\n",
       "      <td>-73.9873</td>\n",
       "      <td>B02512</td>\n",
       "      <td>POINT (-73.9873 40.7316)</td>\n",
       "      <td>East Village</td>\n",
       "      <td>Manhattan</td>\n",
       "      <td>44136.0</td>\n",
       "      <td>862.0</td>\n",
       "      <td>...</td>\n",
       "      <td>1524.0</td>\n",
       "      <td>1702.0</td>\n",
       "      <td>3160.0</td>\n",
       "      <td>3057.0</td>\n",
       "      <td>3201.0</td>\n",
       "      <td>2155.0</td>\n",
       "      <td>2478.0</td>\n",
       "      <td>72665.0</td>\n",
       "      <td>100130.0</td>\n",
       "      <td>2014-04-01</td>\n",
       "    </tr>\n",
       "    <tr>\n",
       "      <td>1</td>\n",
       "      <td>MN22</td>\n",
       "      <td>2014-04-01 01:19:00</td>\n",
       "      <td>40.7256</td>\n",
       "      <td>-73.9869</td>\n",
       "      <td>B02512</td>\n",
       "      <td>POINT (-73.98690000000001 40.7256)</td>\n",
       "      <td>East Village</td>\n",
       "      <td>Manhattan</td>\n",
       "      <td>44136.0</td>\n",
       "      <td>862.0</td>\n",
       "      <td>...</td>\n",
       "      <td>1524.0</td>\n",
       "      <td>1702.0</td>\n",
       "      <td>3160.0</td>\n",
       "      <td>3057.0</td>\n",
       "      <td>3201.0</td>\n",
       "      <td>2155.0</td>\n",
       "      <td>2478.0</td>\n",
       "      <td>72665.0</td>\n",
       "      <td>100130.0</td>\n",
       "      <td>2014-04-01</td>\n",
       "    </tr>\n",
       "    <tr>\n",
       "      <td>2</td>\n",
       "      <td>MN22</td>\n",
       "      <td>2014-04-01 01:49:00</td>\n",
       "      <td>40.7271</td>\n",
       "      <td>-73.9803</td>\n",
       "      <td>B02512</td>\n",
       "      <td>POINT (-73.9803 40.7271)</td>\n",
       "      <td>East Village</td>\n",
       "      <td>Manhattan</td>\n",
       "      <td>44136.0</td>\n",
       "      <td>862.0</td>\n",
       "      <td>...</td>\n",
       "      <td>1524.0</td>\n",
       "      <td>1702.0</td>\n",
       "      <td>3160.0</td>\n",
       "      <td>3057.0</td>\n",
       "      <td>3201.0</td>\n",
       "      <td>2155.0</td>\n",
       "      <td>2478.0</td>\n",
       "      <td>72665.0</td>\n",
       "      <td>100130.0</td>\n",
       "      <td>2014-04-01</td>\n",
       "    </tr>\n",
       "    <tr>\n",
       "      <td>3</td>\n",
       "      <td>MN22</td>\n",
       "      <td>2014-04-01 04:19:00</td>\n",
       "      <td>40.7250</td>\n",
       "      <td>-73.9844</td>\n",
       "      <td>B02512</td>\n",
       "      <td>POINT (-73.98439999999999 40.725)</td>\n",
       "      <td>East Village</td>\n",
       "      <td>Manhattan</td>\n",
       "      <td>44136.0</td>\n",
       "      <td>862.0</td>\n",
       "      <td>...</td>\n",
       "      <td>1524.0</td>\n",
       "      <td>1702.0</td>\n",
       "      <td>3160.0</td>\n",
       "      <td>3057.0</td>\n",
       "      <td>3201.0</td>\n",
       "      <td>2155.0</td>\n",
       "      <td>2478.0</td>\n",
       "      <td>72665.0</td>\n",
       "      <td>100130.0</td>\n",
       "      <td>2014-04-01</td>\n",
       "    </tr>\n",
       "    <tr>\n",
       "      <td>4</td>\n",
       "      <td>MN22</td>\n",
       "      <td>2014-04-01 06:32:00</td>\n",
       "      <td>40.7322</td>\n",
       "      <td>-73.9863</td>\n",
       "      <td>B02512</td>\n",
       "      <td>POINT (-73.9863 40.7322)</td>\n",
       "      <td>East Village</td>\n",
       "      <td>Manhattan</td>\n",
       "      <td>44136.0</td>\n",
       "      <td>862.0</td>\n",
       "      <td>...</td>\n",
       "      <td>1524.0</td>\n",
       "      <td>1702.0</td>\n",
       "      <td>3160.0</td>\n",
       "      <td>3057.0</td>\n",
       "      <td>3201.0</td>\n",
       "      <td>2155.0</td>\n",
       "      <td>2478.0</td>\n",
       "      <td>72665.0</td>\n",
       "      <td>100130.0</td>\n",
       "      <td>2014-04-01</td>\n",
       "    </tr>\n",
       "  </tbody>\n",
       "</table>\n",
       "<p>5 rows × 39 columns</p>\n",
       "</div>"
      ],
      "text/plain": [
       "   name     pickup_datetime  pickup_latitude  pickup_longitude    base  \\\n",
       "0  MN22 2014-04-01 00:21:00          40.7316          -73.9873  B02512   \n",
       "1  MN22 2014-04-01 01:19:00          40.7256          -73.9869  B02512   \n",
       "2  MN22 2014-04-01 01:49:00          40.7271          -73.9803  B02512   \n",
       "3  MN22 2014-04-01 04:19:00          40.7250          -73.9844  B02512   \n",
       "4  MN22 2014-04-01 06:32:00          40.7322          -73.9863  B02512   \n",
       "\n",
       "                             geometry      nta_name    borough  population  \\\n",
       "0            POINT (-73.9873 40.7316)  East Village  Manhattan     44136.0   \n",
       "1  POINT (-73.98690000000001 40.7256)  East Village  Manhattan     44136.0   \n",
       "2            POINT (-73.9803 40.7271)  East Village  Manhattan     44136.0   \n",
       "3   POINT (-73.98439999999999 40.725)  East Village  Manhattan     44136.0   \n",
       "4            POINT (-73.9863 40.7322)  East Village  Manhattan     44136.0   \n",
       "\n",
       "   under_5_years  ...  25000_to_34999  35000_to_49999  50000_to_74999  \\\n",
       "0          862.0  ...          1524.0          1702.0          3160.0   \n",
       "1          862.0  ...          1524.0          1702.0          3160.0   \n",
       "2          862.0  ...          1524.0          1702.0          3160.0   \n",
       "3          862.0  ...          1524.0          1702.0          3160.0   \n",
       "4          862.0  ...          1524.0          1702.0          3160.0   \n",
       "\n",
       "   75000_to_99999  100000_to_149999  150000_to_199999  200000_or_more  \\\n",
       "0          3057.0            3201.0            2155.0          2478.0   \n",
       "1          3057.0            3201.0            2155.0          2478.0   \n",
       "2          3057.0            3201.0            2155.0          2478.0   \n",
       "3          3057.0            3201.0            2155.0          2478.0   \n",
       "4          3057.0            3201.0            2155.0          2478.0   \n",
       "\n",
       "   median_income  mean_income      date_i  \n",
       "0        72665.0     100130.0  2014-04-01  \n",
       "1        72665.0     100130.0  2014-04-01  \n",
       "2        72665.0     100130.0  2014-04-01  \n",
       "3        72665.0     100130.0  2014-04-01  \n",
       "4        72665.0     100130.0  2014-04-01  \n",
       "\n",
       "[5 rows x 39 columns]"
      ]
     },
     "execution_count": 131,
     "metadata": {},
     "output_type": "execute_result"
    }
   ],
   "source": [
    "uber_2014_demographic_left['date_i'] = [x.date() for x in uber_2014_demographic_left.reset_index().pickup_datetime]\n",
    "uber_2014_demographic_left = uber_2014_demographic_left.reset_index()\n",
    "uber_2014_demographic_left.head()"
   ]
  },
  {
   "cell_type": "code",
   "execution_count": 157,
   "metadata": {},
   "outputs": [
    {
     "data": {
      "text/plain": [
       "POINT (-73.97418740000001 40.7711329)    730\n",
       "POINT (-73.87396590000002 40.7769271)    730\n",
       "POINT (-73.7799821 40.64749)             729\n",
       "POINT (-73.7799821 40.64749)               1\n",
       "Name: geometry, dtype: int64"
      ]
     },
     "execution_count": 157,
     "metadata": {},
     "output_type": "execute_result"
    }
   ],
   "source": [
    "weather = pd.read_csv('weather.csv')\n",
    "weather['date'] = [re.sub(r\"(\\d+/\\d+/)(\\d{2})\", r\"\\g<1>20\\2\", str(x)) for x in weather['date']]\n",
    "weather['date'] = pd.to_datetime(weather['date'], format='%m/%d/%Y')\n",
    "weather['date_i'] = [x.date() for x in weather.date]\n",
    "weather[\"geometry\"] = weather.apply(lambda row: Point(row[\"longitude\"], row[\"latitude\"]), axis=1)\n",
    "weather = geopandas.GeoDataFrame(weather, geometry='geometry')\n",
    "weather.geometry.value_counts()"
   ]
  },
  {
   "cell_type": "code",
   "execution_count": 158,
   "metadata": {},
   "outputs": [
    {
     "data": {
      "text/html": [
       "<div>\n",
       "<style scoped>\n",
       "    .dataframe tbody tr th:only-of-type {\n",
       "        vertical-align: middle;\n",
       "    }\n",
       "\n",
       "    .dataframe tbody tr th {\n",
       "        vertical-align: top;\n",
       "    }\n",
       "\n",
       "    .dataframe thead th {\n",
       "        text-align: right;\n",
       "    }\n",
       "</style>\n",
       "<table border=\"1\" class=\"dataframe\">\n",
       "  <thead>\n",
       "    <tr style=\"text-align: right;\">\n",
       "      <th></th>\n",
       "      <th>date</th>\n",
       "      <th>max_temp</th>\n",
       "      <th>min_temp</th>\n",
       "      <th>avg_temp</th>\n",
       "      <th>precipitation</th>\n",
       "      <th>snowfall</th>\n",
       "      <th>snow_depth</th>\n",
       "      <th>location</th>\n",
       "      <th>latitude</th>\n",
       "      <th>longitude</th>\n",
       "      <th>date_i</th>\n",
       "      <th>geometry</th>\n",
       "    </tr>\n",
       "  </thead>\n",
       "  <tbody>\n",
       "    <tr>\n",
       "      <td>0</td>\n",
       "      <td>2014-01-01</td>\n",
       "      <td>34</td>\n",
       "      <td>24</td>\n",
       "      <td>29.0</td>\n",
       "      <td>0</td>\n",
       "      <td>0</td>\n",
       "      <td>0</td>\n",
       "      <td>JFK</td>\n",
       "      <td>40.64749</td>\n",
       "      <td>-73.779982</td>\n",
       "      <td>2014-01-01</td>\n",
       "      <td>POINT (-73.7799821 40.64749)</td>\n",
       "    </tr>\n",
       "    <tr>\n",
       "      <td>1</td>\n",
       "      <td>2014-01-02</td>\n",
       "      <td>33</td>\n",
       "      <td>19</td>\n",
       "      <td>26.0</td>\n",
       "      <td>0.13</td>\n",
       "      <td>2.4</td>\n",
       "      <td>0</td>\n",
       "      <td>JFK</td>\n",
       "      <td>40.64749</td>\n",
       "      <td>-73.779982</td>\n",
       "      <td>2014-01-02</td>\n",
       "      <td>POINT (-73.7799821 40.64749)</td>\n",
       "    </tr>\n",
       "    <tr>\n",
       "      <td>2</td>\n",
       "      <td>2014-01-03</td>\n",
       "      <td>19</td>\n",
       "      <td>9</td>\n",
       "      <td>14.0</td>\n",
       "      <td>0.22</td>\n",
       "      <td>5.5</td>\n",
       "      <td>7</td>\n",
       "      <td>JFK</td>\n",
       "      <td>40.64749</td>\n",
       "      <td>-73.779982</td>\n",
       "      <td>2014-01-03</td>\n",
       "      <td>POINT (-73.7799821 40.64749)</td>\n",
       "    </tr>\n",
       "    <tr>\n",
       "      <td>3</td>\n",
       "      <td>2014-01-04</td>\n",
       "      <td>31</td>\n",
       "      <td>3</td>\n",
       "      <td>17.0</td>\n",
       "      <td>0</td>\n",
       "      <td>0</td>\n",
       "      <td>7</td>\n",
       "      <td>JFK</td>\n",
       "      <td>40.64749</td>\n",
       "      <td>-73.779982</td>\n",
       "      <td>2014-01-04</td>\n",
       "      <td>POINT (-73.7799821 40.64749)</td>\n",
       "    </tr>\n",
       "    <tr>\n",
       "      <td>4</td>\n",
       "      <td>2014-01-05</td>\n",
       "      <td>49</td>\n",
       "      <td>23</td>\n",
       "      <td>36.0</td>\n",
       "      <td>0.1</td>\n",
       "      <td></td>\n",
       "      <td>6</td>\n",
       "      <td>JFK</td>\n",
       "      <td>40.64749</td>\n",
       "      <td>-73.779982</td>\n",
       "      <td>2014-01-05</td>\n",
       "      <td>POINT (-73.7799821 40.64749)</td>\n",
       "    </tr>\n",
       "  </tbody>\n",
       "</table>\n",
       "</div>"
      ],
      "text/plain": [
       "        date  max_temp  min_temp  avg_temp precipitation snowfall snow_depth  \\\n",
       "0 2014-01-01        34        24      29.0             0        0          0   \n",
       "1 2014-01-02        33        19      26.0          0.13      2.4          0   \n",
       "2 2014-01-03        19         9      14.0          0.22      5.5          7   \n",
       "3 2014-01-04        31         3      17.0             0        0          7   \n",
       "4 2014-01-05        49        23      36.0           0.1                   6   \n",
       "\n",
       "  location  latitude  longitude      date_i                      geometry  \n",
       "0      JFK  40.64749 -73.779982  2014-01-01  POINT (-73.7799821 40.64749)  \n",
       "1      JFK  40.64749 -73.779982  2014-01-02  POINT (-73.7799821 40.64749)  \n",
       "2      JFK  40.64749 -73.779982  2014-01-03  POINT (-73.7799821 40.64749)  \n",
       "3      JFK  40.64749 -73.779982  2014-01-04  POINT (-73.7799821 40.64749)  \n",
       "4      JFK  40.64749 -73.779982  2014-01-05  POINT (-73.7799821 40.64749)  "
      ]
     },
     "execution_count": 158,
     "metadata": {},
     "output_type": "execute_result"
    }
   ],
   "source": [
    "weather.head()"
   ]
  },
  {
   "cell_type": "code",
   "execution_count": 159,
   "metadata": {},
   "outputs": [
    {
     "data": {
      "text/html": [
       "<div>\n",
       "<style scoped>\n",
       "    .dataframe tbody tr th:only-of-type {\n",
       "        vertical-align: middle;\n",
       "    }\n",
       "\n",
       "    .dataframe tbody tr th {\n",
       "        vertical-align: top;\n",
       "    }\n",
       "\n",
       "    .dataframe thead th {\n",
       "        text-align: right;\n",
       "    }\n",
       "</style>\n",
       "<table border=\"1\" class=\"dataframe\">\n",
       "  <thead>\n",
       "    <tr style=\"text-align: right;\">\n",
       "      <th></th>\n",
       "      <th>date</th>\n",
       "      <th>max_temp</th>\n",
       "      <th>min_temp</th>\n",
       "      <th>avg_temp</th>\n",
       "      <th>precipitation</th>\n",
       "      <th>snowfall</th>\n",
       "      <th>snow_depth</th>\n",
       "      <th>location</th>\n",
       "      <th>latitude</th>\n",
       "      <th>longitude</th>\n",
       "      <th>date_i</th>\n",
       "      <th>geometry</th>\n",
       "      <th>index_right</th>\n",
       "      <th>Unnamed: 0</th>\n",
       "      <th>name</th>\n",
       "    </tr>\n",
       "  </thead>\n",
       "  <tbody>\n",
       "  </tbody>\n",
       "</table>\n",
       "</div>"
      ],
      "text/plain": [
       "Empty GeoDataFrame\n",
       "Columns: [date, max_temp, min_temp, avg_temp, precipitation, snowfall, snow_depth, location, latitude, longitude, date_i, geometry, index_right, Unnamed: 0, name]\n",
       "Index: []"
      ]
     },
     "execution_count": 159,
     "metadata": {},
     "output_type": "execute_result"
    }
   ],
   "source": [
    "weather_nta = geopandas.sjoin(weather, polys, op='within')\n",
    "weather_nta"
   ]
  },
  {
   "cell_type": "code",
   "execution_count": 160,
   "metadata": {},
   "outputs": [
    {
     "data": {
      "text/plain": [
       "<matplotlib.axes._subplots.AxesSubplot at 0x159c741f9b0>"
      ]
     },
     "execution_count": 160,
     "metadata": {},
     "output_type": "execute_result"
    },
    {
     "data": {
      "image/png": "[encoded data removed]",
      "text/plain": [
       "<matplotlib.figure.Figure at 0x159c77c81d0>"
      ]
     },
     "metadata": {},
     "output_type": "display_data"
    }
   ],
   "source": [
    "weather.plot()"
   ]
  },
  {
   "cell_type": "code",
   "execution_count": 161,
   "metadata": {},
   "outputs": [
    {
     "data": {
      "text/plain": [
       "<matplotlib.axes._subplots.AxesSubplot at 0x159c7f736d8>"
      ]
     },
     "execution_count": 161,
     "metadata": {},
     "output_type": "execute_result"
    },
    {
     "data": {
      "image/png": "[encoded data removed]",
      "text/plain": [
       "<matplotlib.figure.Figure at 0x159c7f0a828>"
      ]
     },
     "metadata": {},
     "output_type": "display_data"
    }
   ],
   "source": [
    "polys.plot()"
   ]
  },
  {
   "cell_type": "code",
   "execution_count": 190,
   "metadata": {},
   "outputs": [
    {
     "data": {
      "text/plain": [
       "<matplotlib.axes._subplots.AxesSubplot at 0x159f577e8d0>"
      ]
     },
     "execution_count": 190,
     "metadata": {},
     "output_type": "execute_result"
    },
    {
     "data": {
      "image/png": "[encoded data removed]",
      "text/plain": [
       "<matplotlib.figure.Figure at 0x159f56ad748>"
      ]
     },
     "metadata": {},
     "output_type": "display_data"
    }
   ],
   "source": [
    "import matplotlib.pyplot as plt\n",
    "\n",
    "fig, ax = plt.subplots(figsize = (20,16)) \n",
    "polys.geometry.plot(color='Lightblue',edgecolor='k',linewidth = 2,ax=ax) \n",
    "weather.plot(color = 'Red',ax=ax, marker='x', markersize=500)\n",
    "# voronoi_plot_2d(vor,ax=ax)"
   ]
  },
  {
   "cell_type": "code",
   "execution_count": 191,
   "metadata": {},
   "outputs": [
    {
     "data": {
      "image/png": "[encoded data removed]",
      "text/plain": [
       "<matplotlib.figure.Figure at 0x159f1f6fd68>"
      ]
     },
     "execution_count": 191,
     "metadata": {},
     "output_type": "execute_result"
    },
    {
     "data": {
      "image/png": "[encoded data removed]",
      "text/plain": [
       "<matplotlib.figure.Figure at 0x159f1f6fd68>"
      ]
     },
     "metadata": {},
     "output_type": "display_data"
    }
   ],
   "source": [
    "from scipy.spatial import Voronoi, voronoi_plot_2d\n",
    "import shapely.geometry\n",
    "import shapely.ops\n",
    "\n",
    "points = [(-73.97418740000001,40.7711329),(-73.87396590000002,40.7769271),(-73.7799821,40.64749)]\n",
    "vor = Voronoi(points)\n",
    "voronoi_plot_2d(vor)"
   ]
  },
  {
   "cell_type": "markdown",
   "metadata": {},
   "source": [
    "# Agregaciones por día"
   ]
  },
  {
   "cell_type": "code",
   "execution_count": 81,
   "metadata": {},
   "outputs": [],
   "source": [
    "uber_2014_agg = uber_2014_left"
   ]
  },
  {
   "cell_type": "code",
   "execution_count": null,
   "metadata": {},
   "outputs": [],
   "source": [
    "uber_2014_agg.groupby([]).agg('count')"
   ]
  },
  {
   "cell_type": "markdown",
   "metadata": {},
   "source": [
    "# Cruce de uber2014 con demographics"
   ]
  },
  {
   "cell_type": "code",
   "execution_count": 39,
   "metadata": {},
   "outputs": [
    {
     "data": {
      "text/html": [
       "<div>\n",
       "<style scoped>\n",
       "    .dataframe tbody tr th:only-of-type {\n",
       "        vertical-align: middle;\n",
       "    }\n",
       "\n",
       "    .dataframe tbody tr th {\n",
       "        vertical-align: top;\n",
       "    }\n",
       "\n",
       "    .dataframe thead th {\n",
       "        text-align: right;\n",
       "    }\n",
       "</style>\n",
       "<table border=\"1\" class=\"dataframe\">\n",
       "  <thead>\n",
       "    <tr style=\"text-align: right;\">\n",
       "      <th></th>\n",
       "      <th>nta_name</th>\n",
       "      <th>borough</th>\n",
       "      <th>nta_code</th>\n",
       "      <th>population</th>\n",
       "      <th>under_5_years</th>\n",
       "      <th>5-9_years</th>\n",
       "      <th>10-14_years</th>\n",
       "      <th>15-19_years</th>\n",
       "      <th>20-24_years</th>\n",
       "      <th>25-29_years</th>\n",
       "      <th>...</th>\n",
       "      <th>15000_to_24999</th>\n",
       "      <th>25000_to_34999</th>\n",
       "      <th>35000_to_49999</th>\n",
       "      <th>50000_to_74999</th>\n",
       "      <th>75000_to_99999</th>\n",
       "      <th>100000_to_149999</th>\n",
       "      <th>150000_to_199999</th>\n",
       "      <th>200000_or_more</th>\n",
       "      <th>median_income</th>\n",
       "      <th>mean_income</th>\n",
       "    </tr>\n",
       "  </thead>\n",
       "  <tbody>\n",
       "    <tr>\n",
       "      <td>0</td>\n",
       "      <td>Allerton-Pelham Gardens</td>\n",
       "      <td>Bronx</td>\n",
       "      <td>BX31</td>\n",
       "      <td>28903</td>\n",
       "      <td>1679</td>\n",
       "      <td>1706</td>\n",
       "      <td>1763</td>\n",
       "      <td>2039</td>\n",
       "      <td>1964</td>\n",
       "      <td>1703</td>\n",
       "      <td>...</td>\n",
       "      <td>797</td>\n",
       "      <td>773</td>\n",
       "      <td>1160</td>\n",
       "      <td>1764</td>\n",
       "      <td>1155</td>\n",
       "      <td>1562</td>\n",
       "      <td>765</td>\n",
       "      <td>427</td>\n",
       "      <td>61638</td>\n",
       "      <td>78489</td>\n",
       "    </tr>\n",
       "    <tr>\n",
       "      <td>1</td>\n",
       "      <td>Annadale-Huguenot-Prince's Bay-Eltingville</td>\n",
       "      <td>Staten Island</td>\n",
       "      <td>SI01</td>\n",
       "      <td>27770</td>\n",
       "      <td>1397</td>\n",
       "      <td>1698</td>\n",
       "      <td>1817</td>\n",
       "      <td>1880</td>\n",
       "      <td>1720</td>\n",
       "      <td>1594</td>\n",
       "      <td>...</td>\n",
       "      <td>571</td>\n",
       "      <td>405</td>\n",
       "      <td>1008</td>\n",
       "      <td>1523</td>\n",
       "      <td>1346</td>\n",
       "      <td>2075</td>\n",
       "      <td>1086</td>\n",
       "      <td>1151</td>\n",
       "      <td>88288</td>\n",
       "      <td>109187</td>\n",
       "    </tr>\n",
       "    <tr>\n",
       "      <td>2</td>\n",
       "      <td>Arden Heights</td>\n",
       "      <td>Staten Island</td>\n",
       "      <td>SI48</td>\n",
       "      <td>25238</td>\n",
       "      <td>1507</td>\n",
       "      <td>1540</td>\n",
       "      <td>1596</td>\n",
       "      <td>1752</td>\n",
       "      <td>1614</td>\n",
       "      <td>1561</td>\n",
       "      <td>...</td>\n",
       "      <td>337</td>\n",
       "      <td>516</td>\n",
       "      <td>707</td>\n",
       "      <td>1421</td>\n",
       "      <td>1611</td>\n",
       "      <td>2021</td>\n",
       "      <td>1047</td>\n",
       "      <td>740</td>\n",
       "      <td>89570</td>\n",
       "      <td>101627</td>\n",
       "    </tr>\n",
       "    <tr>\n",
       "      <td>3</td>\n",
       "      <td>Astoria</td>\n",
       "      <td>Queens</td>\n",
       "      <td>QN70</td>\n",
       "      <td>78793</td>\n",
       "      <td>3480</td>\n",
       "      <td>3037</td>\n",
       "      <td>3060</td>\n",
       "      <td>3392</td>\n",
       "      <td>6630</td>\n",
       "      <td>11586</td>\n",
       "      <td>...</td>\n",
       "      <td>3673</td>\n",
       "      <td>2816</td>\n",
       "      <td>4725</td>\n",
       "      <td>6463</td>\n",
       "      <td>4557</td>\n",
       "      <td>4698</td>\n",
       "      <td>1627</td>\n",
       "      <td>1197</td>\n",
       "      <td>54882</td>\n",
       "      <td>70094</td>\n",
       "    </tr>\n",
       "    <tr>\n",
       "      <td>4</td>\n",
       "      <td>Auburndale</td>\n",
       "      <td>Queens</td>\n",
       "      <td>QN48</td>\n",
       "      <td>19996</td>\n",
       "      <td>917</td>\n",
       "      <td>966</td>\n",
       "      <td>1063</td>\n",
       "      <td>1168</td>\n",
       "      <td>1214</td>\n",
       "      <td>1307</td>\n",
       "      <td>...</td>\n",
       "      <td>445</td>\n",
       "      <td>632</td>\n",
       "      <td>690</td>\n",
       "      <td>1417</td>\n",
       "      <td>1060</td>\n",
       "      <td>1237</td>\n",
       "      <td>589</td>\n",
       "      <td>433</td>\n",
       "      <td>70772</td>\n",
       "      <td>84402</td>\n",
       "    </tr>\n",
       "  </tbody>\n",
       "</table>\n",
       "<p>5 rows × 33 columns</p>\n",
       "</div>"
      ],
      "text/plain": [
       "                                     nta_name        borough nta_code  \\\n",
       "0                     Allerton-Pelham Gardens          Bronx     BX31   \n",
       "1  Annadale-Huguenot-Prince's Bay-Eltingville  Staten Island     SI01   \n",
       "2                               Arden Heights  Staten Island     SI48   \n",
       "3                                     Astoria         Queens     QN70   \n",
       "4                                  Auburndale         Queens     QN48   \n",
       "\n",
       "   population  under_5_years  5-9_years  10-14_years  15-19_years  \\\n",
       "0       28903           1679       1706         1763         2039   \n",
       "1       27770           1397       1698         1817         1880   \n",
       "2       25238           1507       1540         1596         1752   \n",
       "3       78793           3480       3037         3060         3392   \n",
       "4       19996            917        966         1063         1168   \n",
       "\n",
       "   20-24_years  25-29_years  ...  15000_to_24999  25000_to_34999  \\\n",
       "0         1964         1703  ...             797             773   \n",
       "1         1720         1594  ...             571             405   \n",
       "2         1614         1561  ...             337             516   \n",
       "3         6630        11586  ...            3673            2816   \n",
       "4         1214         1307  ...             445             632   \n",
       "\n",
       "   35000_to_49999  50000_to_74999  75000_to_99999  100000_to_149999  \\\n",
       "0            1160            1764            1155              1562   \n",
       "1            1008            1523            1346              2075   \n",
       "2             707            1421            1611              2021   \n",
       "3            4725            6463            4557              4698   \n",
       "4             690            1417            1060              1237   \n",
       "\n",
       "   150000_to_199999  200000_or_more  median_income  mean_income  \n",
       "0               765             427          61638        78489  \n",
       "1              1086            1151          88288       109187  \n",
       "2              1047             740          89570       101627  \n",
       "3              1627            1197          54882        70094  \n",
       "4               589             433          70772        84402  \n",
       "\n",
       "[5 rows x 33 columns]"
      ]
     },
     "execution_count": 39,
     "metadata": {},
     "output_type": "execute_result"
    }
   ],
   "source": [
    "demography = pd.read_csv(\"demographics.csv\")\n",
    "demography.head()"
   ]
  },
  {
   "cell_type": "code",
   "execution_count": null,
   "metadata": {},
   "outputs": [],
   "source": []
  },
  {
   "cell_type": "markdown",
   "metadata": {},
   "source": [
    "## Nota: Las siguientes operaciones buscan unir uber2014 con Geographic para que queden con dos columnas de geometrías. No creo que sea necesario."
   ]
  },
  {
   "cell_type": "code",
   "execution_count": 31,
   "metadata": {},
   "outputs": [
    {
     "data": {
      "text/html": [
       "<div>\n",
       "<style scoped>\n",
       "    .dataframe tbody tr th:only-of-type {\n",
       "        vertical-align: middle;\n",
       "    }\n",
       "\n",
       "    .dataframe tbody tr th {\n",
       "        vertical-align: top;\n",
       "    }\n",
       "\n",
       "    .dataframe thead th {\n",
       "        text-align: right;\n",
       "    }\n",
       "</style>\n",
       "<table border=\"1\" class=\"dataframe\">\n",
       "  <thead>\n",
       "    <tr style=\"text-align: right;\">\n",
       "      <th></th>\n",
       "      <th>pickup_datetime</th>\n",
       "      <th>pickup_latitude</th>\n",
       "      <th>pickup_longitude</th>\n",
       "      <th>base</th>\n",
       "      <th>geometry</th>\n",
       "      <th>name</th>\n",
       "      <th>geometry_NTA</th>\n",
       "    </tr>\n",
       "  </thead>\n",
       "  <tbody>\n",
       "    <tr>\n",
       "      <td>0</td>\n",
       "      <td>4/1/14 0:21</td>\n",
       "      <td>40.7316</td>\n",
       "      <td>-73.9873</td>\n",
       "      <td>B02512</td>\n",
       "      <td>POINT (-73.9873 40.7316)</td>\n",
       "      <td>MN22</td>\n",
       "      <td>POLYGON ((-73.9825577344437 40.7313583954125, ...</td>\n",
       "    </tr>\n",
       "    <tr>\n",
       "      <td>1</td>\n",
       "      <td>4/1/14 1:19</td>\n",
       "      <td>40.7256</td>\n",
       "      <td>-73.9869</td>\n",
       "      <td>B02512</td>\n",
       "      <td>POINT (-73.98690000000001 40.7256)</td>\n",
       "      <td>MN22</td>\n",
       "      <td>POLYGON ((-73.9825577344437 40.7313583954125, ...</td>\n",
       "    </tr>\n",
       "    <tr>\n",
       "      <td>2</td>\n",
       "      <td>4/1/14 1:49</td>\n",
       "      <td>40.7271</td>\n",
       "      <td>-73.9803</td>\n",
       "      <td>B02512</td>\n",
       "      <td>POINT (-73.9803 40.7271)</td>\n",
       "      <td>MN22</td>\n",
       "      <td>POLYGON ((-73.9825577344437 40.7313583954125, ...</td>\n",
       "    </tr>\n",
       "    <tr>\n",
       "      <td>3</td>\n",
       "      <td>4/1/14 4:19</td>\n",
       "      <td>40.7250</td>\n",
       "      <td>-73.9844</td>\n",
       "      <td>B02512</td>\n",
       "      <td>POINT (-73.98439999999999 40.725)</td>\n",
       "      <td>MN22</td>\n",
       "      <td>POLYGON ((-73.9825577344437 40.7313583954125, ...</td>\n",
       "    </tr>\n",
       "    <tr>\n",
       "      <td>4</td>\n",
       "      <td>4/1/14 6:32</td>\n",
       "      <td>40.7322</td>\n",
       "      <td>-73.9863</td>\n",
       "      <td>B02512</td>\n",
       "      <td>POINT (-73.9863 40.7322)</td>\n",
       "      <td>MN22</td>\n",
       "      <td>POLYGON ((-73.9825577344437 40.7313583954125, ...</td>\n",
       "    </tr>\n",
       "  </tbody>\n",
       "</table>\n",
       "</div>"
      ],
      "text/plain": [
       "  pickup_datetime  pickup_latitude  pickup_longitude    base  \\\n",
       "0     4/1/14 0:21          40.7316          -73.9873  B02512   \n",
       "1     4/1/14 1:19          40.7256          -73.9869  B02512   \n",
       "2     4/1/14 1:49          40.7271          -73.9803  B02512   \n",
       "3     4/1/14 4:19          40.7250          -73.9844  B02512   \n",
       "4     4/1/14 6:32          40.7322          -73.9863  B02512   \n",
       "\n",
       "                             geometry  name  \\\n",
       "0            POINT (-73.9873 40.7316)  MN22   \n",
       "1  POINT (-73.98690000000001 40.7256)  MN22   \n",
       "2            POINT (-73.9803 40.7271)  MN22   \n",
       "3   POINT (-73.98439999999999 40.725)  MN22   \n",
       "4            POINT (-73.9863 40.7322)  MN22   \n",
       "\n",
       "                                        geometry_NTA  \n",
       "0  POLYGON ((-73.9825577344437 40.7313583954125, ...  \n",
       "1  POLYGON ((-73.9825577344437 40.7313583954125, ...  \n",
       "2  POLYGON ((-73.9825577344437 40.7313583954125, ...  \n",
       "3  POLYGON ((-73.9825577344437 40.7313583954125, ...  \n",
       "4  POLYGON ((-73.9825577344437 40.7313583954125, ...  "
      ]
     },
     "execution_count": 31,
     "metadata": {},
     "output_type": "execute_result"
    }
   ],
   "source": [
    "uber2014_geographic = uber_2014_left.join(gdf.set_index('name'), on='name', rsuffix='_NTA').drop('Unnamed: 0', axis = 1)\n",
    "uber2014_geographic.head()"
   ]
  },
  {
   "cell_type": "code",
   "execution_count": null,
   "metadata": {},
   "outputs": [],
   "source": [
    "uber2014_geographic.to_csv('uber2014_geographic.csv')"
   ]
  },
  {
   "cell_type": "markdown",
   "metadata": {},
   "source": [
    "# Graficando mapa y puntos. Falta terminar"
   ]
  },
  {
   "cell_type": "code",
   "execution_count": null,
   "metadata": {},
   "outputs": [],
   "source": [
    "import matplotlib.pyplot as plt"
   ]
  },
  {
   "cell_type": "markdown",
   "metadata": {},
   "source": [
    "Sample de trips para no pintar los 4 millones"
   ]
  },
  {
   "cell_type": "code",
   "execution_count": null,
   "metadata": {},
   "outputs": [],
   "source": [
    "geo_trips_2014_ready.head()"
   ]
  },
  {
   "cell_type": "code",
   "execution_count": null,
   "metadata": {},
   "outputs": [],
   "source": [
    "geo_trips_2014_ready_sample = geo_trips_2014_ready.sample(n=50)"
   ]
  },
  {
   "cell_type": "code",
   "execution_count": null,
   "metadata": {},
   "outputs": [],
   "source": [
    "geo_trips_2014_ready_sample.plot();"
   ]
  },
  {
   "cell_type": "markdown",
   "metadata": {},
   "source": [
    "En esta parte del código la idea es que se puedan pintar los puntos y las zonas"
   ]
  },
  {
   "cell_type": "code",
   "execution_count": null,
   "metadata": {},
   "outputs": [],
   "source": [
    "geo_trips_2014_ready_sample.plot()\n",
    "gdf.plot();"
   ]
  }
 ],
 "metadata": {
  "kernelspec": {
   "display_name": "Python 3",
   "language": "python",
   "name": "python3"
  },
  "language_info": {
   "codemirror_mode": {
    "name": "ipython",
    "version": 3
   },
   "file_extension": ".py",
   "mimetype": "text/x-python",
   "name": "python",
   "nbconvert_exporter": "python",
   "pygments_lexer": "ipython3",
   "version": "3.6.4"
  }
 },
 "nbformat": 4,
 "nbformat_minor": 2
}
