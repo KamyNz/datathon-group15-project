{
 "cells": [
  {
   "cell_type": "markdown",
   "metadata": {},
   "source": [
    "## Green Trips"
   ]
  },
  {
   "cell_type": "code",
   "execution_count": 17,
   "metadata": {},
   "outputs": [],
   "source": [
    "import pandas as pd\n",
    "import numpy as np"
   ]
  },
  {
   "cell_type": "code",
   "execution_count": 18,
   "metadata": {},
   "outputs": [],
   "source": [
    "green = pd.read_csv('green_trips.csv.gz')\n",
    "geography = pd.read_csv(\"geographic.csv\")"
   ]
  },
  {
   "cell_type": "code",
   "execution_count": 19,
   "metadata": {
    "scrolled": true
   },
   "outputs": [
    {
     "data": {
      "text/html": [
       "<div>\n",
       "<style scoped>\n",
       "    .dataframe tbody tr th:only-of-type {\n",
       "        vertical-align: middle;\n",
       "    }\n",
       "\n",
       "    .dataframe tbody tr th {\n",
       "        vertical-align: top;\n",
       "    }\n",
       "\n",
       "    .dataframe thead th {\n",
       "        text-align: right;\n",
       "    }\n",
       "</style>\n",
       "<table border=\"1\" class=\"dataframe\">\n",
       "  <thead>\n",
       "    <tr style=\"text-align: right;\">\n",
       "      <th></th>\n",
       "      <th>pickup_datetime</th>\n",
       "      <th>dropoff_datetime</th>\n",
       "      <th>pickup_longitude</th>\n",
       "      <th>pickup_latitude</th>\n",
       "      <th>dropoff_longitude</th>\n",
       "      <th>dropoff_latitude</th>\n",
       "      <th>passenger_count</th>\n",
       "      <th>trip_distance</th>\n",
       "      <th>total_amount</th>\n",
       "    </tr>\n",
       "  </thead>\n",
       "  <tbody>\n",
       "    <tr>\n",
       "      <th>0</th>\n",
       "      <td>2015-02-01 01:26:45</td>\n",
       "      <td>2015-02-01 01:49:58</td>\n",
       "      <td>-73.953545</td>\n",
       "      <td>40.811172</td>\n",
       "      <td>-73.984764</td>\n",
       "      <td>40.728386</td>\n",
       "      <td>1</td>\n",
       "      <td>8.11</td>\n",
       "      <td>27.8</td>\n",
       "    </tr>\n",
       "    <tr>\n",
       "      <th>1</th>\n",
       "      <td>2015-01-02 20:06:28</td>\n",
       "      <td>2015-01-02 20:14:04</td>\n",
       "      <td>-73.946709</td>\n",
       "      <td>40.714321</td>\n",
       "      <td>-73.961571</td>\n",
       "      <td>40.711475</td>\n",
       "      <td>1</td>\n",
       "      <td>1.29</td>\n",
       "      <td>9.8</td>\n",
       "    </tr>\n",
       "    <tr>\n",
       "      <th>2</th>\n",
       "      <td>2014-09-27 17:55:38</td>\n",
       "      <td>2014-09-27 18:19:56</td>\n",
       "      <td>-73.957626</td>\n",
       "      <td>40.718094</td>\n",
       "      <td>-73.947304</td>\n",
       "      <td>40.777813</td>\n",
       "      <td>5</td>\n",
       "      <td>6.12</td>\n",
       "      <td>26.3</td>\n",
       "    </tr>\n",
       "    <tr>\n",
       "      <th>3</th>\n",
       "      <td>2014-04-27 02:27:04</td>\n",
       "      <td>2014-04-27 02:39:02</td>\n",
       "      <td>-73.949501</td>\n",
       "      <td>40.713997</td>\n",
       "      <td>-73.987785</td>\n",
       "      <td>40.718582</td>\n",
       "      <td>2</td>\n",
       "      <td>3.68</td>\n",
       "      <td>17.3</td>\n",
       "    </tr>\n",
       "    <tr>\n",
       "      <th>4</th>\n",
       "      <td>2014-05-26 18:32:19</td>\n",
       "      <td>2014-05-26 18:44:13</td>\n",
       "      <td>-73.944092</td>\n",
       "      <td>40.672195</td>\n",
       "      <td>-73.977325</td>\n",
       "      <td>40.664013</td>\n",
       "      <td>1</td>\n",
       "      <td>2.40</td>\n",
       "      <td>11.5</td>\n",
       "    </tr>\n",
       "  </tbody>\n",
       "</table>\n",
       "</div>"
      ],
      "text/plain": [
       "       pickup_datetime     dropoff_datetime  pickup_longitude  \\\n",
       "0  2015-02-01 01:26:45  2015-02-01 01:49:58        -73.953545   \n",
       "1  2015-01-02 20:06:28  2015-01-02 20:14:04        -73.946709   \n",
       "2  2014-09-27 17:55:38  2014-09-27 18:19:56        -73.957626   \n",
       "3  2014-04-27 02:27:04  2014-04-27 02:39:02        -73.949501   \n",
       "4  2014-05-26 18:32:19  2014-05-26 18:44:13        -73.944092   \n",
       "\n",
       "   pickup_latitude  dropoff_longitude  dropoff_latitude  passenger_count  \\\n",
       "0        40.811172         -73.984764         40.728386                1   \n",
       "1        40.714321         -73.961571         40.711475                1   \n",
       "2        40.718094         -73.947304         40.777813                5   \n",
       "3        40.713997         -73.987785         40.718582                2   \n",
       "4        40.672195         -73.977325         40.664013                1   \n",
       "\n",
       "   trip_distance  total_amount  \n",
       "0           8.11          27.8  \n",
       "1           1.29           9.8  \n",
       "2           6.12          26.3  \n",
       "3           3.68          17.3  \n",
       "4           2.40          11.5  "
      ]
     },
     "execution_count": 19,
     "metadata": {},
     "output_type": "execute_result"
    }
   ],
   "source": [
    "green.head()"
   ]
  },
  {
   "cell_type": "code",
   "execution_count": 48,
   "metadata": {},
   "outputs": [
    {
     "data": {
      "text/plain": [
       "(3589048, 9)"
      ]
     },
     "execution_count": 48,
     "metadata": {},
     "output_type": "execute_result"
    }
   ],
   "source": [
    "green.shape"
   ]
  },
  {
   "cell_type": "code",
   "execution_count": 20,
   "metadata": {
    "scrolled": true
   },
   "outputs": [
    {
     "data": {
      "text/html": [
       "<div>\n",
       "<style scoped>\n",
       "    .dataframe tbody tr th:only-of-type {\n",
       "        vertical-align: middle;\n",
       "    }\n",
       "\n",
       "    .dataframe tbody tr th {\n",
       "        vertical-align: top;\n",
       "    }\n",
       "\n",
       "    .dataframe thead th {\n",
       "        text-align: right;\n",
       "    }\n",
       "</style>\n",
       "<table border=\"1\" class=\"dataframe\">\n",
       "  <thead>\n",
       "    <tr style=\"text-align: right;\">\n",
       "      <th></th>\n",
       "      <th>BK88</th>\n",
       "      <th>QN52</th>\n",
       "      <th>QN48</th>\n",
       "      <th>QN51</th>\n",
       "      <th>QN27</th>\n",
       "      <th>BX35</th>\n",
       "      <th>BX98</th>\n",
       "      <th>QN07</th>\n",
       "      <th>MN06</th>\n",
       "      <th>QN02</th>\n",
       "      <th>...</th>\n",
       "      <th>MN25</th>\n",
       "      <th>MN24</th>\n",
       "      <th>MN23</th>\n",
       "      <th>MN13</th>\n",
       "      <th>MN15</th>\n",
       "      <th>MN32</th>\n",
       "      <th>MN33</th>\n",
       "      <th>MN99</th>\n",
       "      <th>QN18</th>\n",
       "      <th>QN29</th>\n",
       "    </tr>\n",
       "  </thead>\n",
       "  <tbody>\n",
       "    <tr>\n",
       "      <th>0</th>\n",
       "      <td>-73.976051</td>\n",
       "      <td>-73.794934</td>\n",
       "      <td>-73.775740</td>\n",
       "      <td>-73.803792</td>\n",
       "      <td>-73.861099</td>\n",
       "      <td>-73.896967</td>\n",
       "      <td>-73.872873</td>\n",
       "      <td>-73.757258</td>\n",
       "      <td>-73.946080</td>\n",
       "      <td>-73.760316</td>\n",
       "      <td>...</td>\n",
       "      <td>-74.000784</td>\n",
       "      <td>-73.992605</td>\n",
       "      <td>-73.989904</td>\n",
       "      <td>-74.001535</td>\n",
       "      <td>-73.993833</td>\n",
       "      <td>-73.938048</td>\n",
       "      <td>-73.935054</td>\n",
       "      <td>-74.010930</td>\n",
       "      <td>-73.858726</td>\n",
       "      <td>-73.867911</td>\n",
       "    </tr>\n",
       "    <tr>\n",
       "      <th>1</th>\n",
       "      <td>40.631284</td>\n",
       "      <td>40.757806</td>\n",
       "      <td>40.743334</td>\n",
       "      <td>40.775618</td>\n",
       "      <td>40.763673</td>\n",
       "      <td>40.834350</td>\n",
       "      <td>40.785983</td>\n",
       "      <td>40.718147</td>\n",
       "      <td>40.821271</td>\n",
       "      <td>40.675118</td>\n",
       "      <td>...</td>\n",
       "      <td>40.694295</td>\n",
       "      <td>40.724145</td>\n",
       "      <td>40.734443</td>\n",
       "      <td>40.762653</td>\n",
       "      <td>40.772940</td>\n",
       "      <td>40.780838</td>\n",
       "      <td>40.791695</td>\n",
       "      <td>40.684500</td>\n",
       "      <td>40.735717</td>\n",
       "      <td>40.744942</td>\n",
       "    </tr>\n",
       "    <tr>\n",
       "      <th>2</th>\n",
       "      <td>-73.977167</td>\n",
       "      <td>-73.794749</td>\n",
       "      <td>-73.775799</td>\n",
       "      <td>-73.800991</td>\n",
       "      <td>-73.859931</td>\n",
       "      <td>-73.896787</td>\n",
       "      <td>-73.872886</td>\n",
       "      <td>-73.755890</td>\n",
       "      <td>-73.946404</td>\n",
       "      <td>-73.758806</td>\n",
       "      <td>...</td>\n",
       "      <td>-74.000960</td>\n",
       "      <td>-73.992634</td>\n",
       "      <td>-73.989870</td>\n",
       "      <td>-74.001339</td>\n",
       "      <td>-73.993789</td>\n",
       "      <td>-73.937903</td>\n",
       "      <td>-73.935108</td>\n",
       "      <td>-74.011934</td>\n",
       "      <td>-73.858672</td>\n",
       "      <td>-73.867877</td>\n",
       "    </tr>\n",
       "    <tr>\n",
       "      <th>3</th>\n",
       "      <td>40.630755</td>\n",
       "      <td>40.755636</td>\n",
       "      <td>40.743326</td>\n",
       "      <td>40.775397</td>\n",
       "      <td>40.762209</td>\n",
       "      <td>40.834133</td>\n",
       "      <td>40.785971</td>\n",
       "      <td>40.716307</td>\n",
       "      <td>40.820580</td>\n",
       "      <td>40.673014</td>\n",
       "      <td>...</td>\n",
       "      <td>40.694077</td>\n",
       "      <td>40.724065</td>\n",
       "      <td>40.733535</td>\n",
       "      <td>40.762217</td>\n",
       "      <td>40.772912</td>\n",
       "      <td>40.780758</td>\n",
       "      <td>40.791658</td>\n",
       "      <td>40.683896</td>\n",
       "      <td>40.735627</td>\n",
       "      <td>40.744824</td>\n",
       "    </tr>\n",
       "    <tr>\n",
       "      <th>4</th>\n",
       "      <td>-73.977000</td>\n",
       "      <td>-73.794579</td>\n",
       "      <td>-73.778060</td>\n",
       "      <td>-73.798653</td>\n",
       "      <td>-73.859668</td>\n",
       "      <td>-73.896303</td>\n",
       "      <td>-73.872983</td>\n",
       "      <td>-73.754702</td>\n",
       "      <td>-73.946720</td>\n",
       "      <td>-73.758598</td>\n",
       "      <td>...</td>\n",
       "      <td>-74.003015</td>\n",
       "      <td>-73.993093</td>\n",
       "      <td>-73.990028</td>\n",
       "      <td>-74.001279</td>\n",
       "      <td>-73.993727</td>\n",
       "      <td>-73.937796</td>\n",
       "      <td>-73.935173</td>\n",
       "      <td>-74.012177</td>\n",
       "      <td>-73.858585</td>\n",
       "      <td>-73.867852</td>\n",
       "    </tr>\n",
       "  </tbody>\n",
       "</table>\n",
       "<p>5 rows × 195 columns</p>\n",
       "</div>"
      ],
      "text/plain": [
       "        BK88       QN52       QN48       QN51       QN27       BX35  \\\n",
       "0 -73.976051 -73.794934 -73.775740 -73.803792 -73.861099 -73.896967   \n",
       "1  40.631284  40.757806  40.743334  40.775618  40.763673  40.834350   \n",
       "2 -73.977167 -73.794749 -73.775799 -73.800991 -73.859931 -73.896787   \n",
       "3  40.630755  40.755636  40.743326  40.775397  40.762209  40.834133   \n",
       "4 -73.977000 -73.794579 -73.778060 -73.798653 -73.859668 -73.896303   \n",
       "\n",
       "        BX98       QN07       MN06       QN02  ...       MN25       MN24  \\\n",
       "0 -73.872873 -73.757258 -73.946080 -73.760316  ... -74.000784 -73.992605   \n",
       "1  40.785983  40.718147  40.821271  40.675118  ...  40.694295  40.724145   \n",
       "2 -73.872886 -73.755890 -73.946404 -73.758806  ... -74.000960 -73.992634   \n",
       "3  40.785971  40.716307  40.820580  40.673014  ...  40.694077  40.724065   \n",
       "4 -73.872983 -73.754702 -73.946720 -73.758598  ... -74.003015 -73.993093   \n",
       "\n",
       "        MN23       MN13       MN15       MN32       MN33       MN99  \\\n",
       "0 -73.989904 -74.001535 -73.993833 -73.938048 -73.935054 -74.010930   \n",
       "1  40.734443  40.762653  40.772940  40.780838  40.791695  40.684500   \n",
       "2 -73.989870 -74.001339 -73.993789 -73.937903 -73.935108 -74.011934   \n",
       "3  40.733535  40.762217  40.772912  40.780758  40.791658  40.683896   \n",
       "4 -73.990028 -74.001279 -73.993727 -73.937796 -73.935173 -74.012177   \n",
       "\n",
       "        QN18       QN29  \n",
       "0 -73.858726 -73.867911  \n",
       "1  40.735717  40.744942  \n",
       "2 -73.858672 -73.867877  \n",
       "3  40.735627  40.744824  \n",
       "4 -73.858585 -73.867852  \n",
       "\n",
       "[5 rows x 195 columns]"
      ]
     },
     "execution_count": 20,
     "metadata": {},
     "output_type": "execute_result"
    }
   ],
   "source": [
    "geography.head()"
   ]
  },
  {
   "cell_type": "code",
   "execution_count": 21,
   "metadata": {
    "scrolled": false
   },
   "outputs": [],
   "source": [
    "# Revisar si existen valores nulos (NaNs)\n",
    "# green.isnull().sum()"
   ]
  },
  {
   "cell_type": "markdown",
   "metadata": {},
   "source": [
    "El siguiente procedimiento convierte el formato leído a un formato similar al .wkt que lee la librería de gráficos `geopandas`."
   ]
  },
  {
   "cell_type": "code",
   "execution_count": 22,
   "metadata": {
    "scrolled": true
   },
   "outputs": [],
   "source": [
    "geodf_raw = geography.transpose()"
   ]
  },
  {
   "cell_type": "code",
   "execution_count": 23,
   "metadata": {
    "scrolled": false
   },
   "outputs": [
    {
     "data": {
      "text/html": [
       "<div>\n",
       "<style scoped>\n",
       "    .dataframe tbody tr th:only-of-type {\n",
       "        vertical-align: middle;\n",
       "    }\n",
       "\n",
       "    .dataframe tbody tr th {\n",
       "        vertical-align: top;\n",
       "    }\n",
       "\n",
       "    .dataframe thead th {\n",
       "        text-align: right;\n",
       "    }\n",
       "</style>\n",
       "<table border=\"1\" class=\"dataframe\">\n",
       "  <thead>\n",
       "    <tr style=\"text-align: right;\">\n",
       "      <th></th>\n",
       "      <th>name</th>\n",
       "      <th>geometry</th>\n",
       "    </tr>\n",
       "  </thead>\n",
       "  <tbody>\n",
       "    <tr>\n",
       "      <th>0</th>\n",
       "      <td>BK88</td>\n",
       "      <td>POLYGON ((-73.9760507905698 40.6312841471042,-...</td>\n",
       "    </tr>\n",
       "    <tr>\n",
       "      <th>1</th>\n",
       "      <td>QN52</td>\n",
       "      <td>POLYGON ((-73.7949338459459 40.7578063026709,-...</td>\n",
       "    </tr>\n",
       "    <tr>\n",
       "      <th>2</th>\n",
       "      <td>QN48</td>\n",
       "      <td>POLYGON ((-73.7757397458527 40.743333917592295...</td>\n",
       "    </tr>\n",
       "    <tr>\n",
       "      <th>3</th>\n",
       "      <td>QN51</td>\n",
       "      <td>POLYGON ((-73.8037916164017 40.7756183875692,-...</td>\n",
       "    </tr>\n",
       "    <tr>\n",
       "      <th>4</th>\n",
       "      <td>QN27</td>\n",
       "      <td>POLYGON ((-73.8610986485262 40.7636727485249,-...</td>\n",
       "    </tr>\n",
       "  </tbody>\n",
       "</table>\n",
       "</div>"
      ],
      "text/plain": [
       "   name                                           geometry\n",
       "0  BK88  POLYGON ((-73.9760507905698 40.6312841471042,-...\n",
       "1  QN52  POLYGON ((-73.7949338459459 40.7578063026709,-...\n",
       "2  QN48  POLYGON ((-73.7757397458527 40.743333917592295...\n",
       "3  QN51  POLYGON ((-73.8037916164017 40.7756183875692,-...\n",
       "4  QN27  POLYGON ((-73.8610986485262 40.7636727485249,-..."
      ]
     },
     "execution_count": 23,
     "metadata": {},
     "output_type": "execute_result"
    }
   ],
   "source": [
    "ntas_names = list(geodf_raw.index)\n",
    "polygons = []\n",
    "for i in range(len(geodf_raw)):\n",
    "    string = 'POLYGON (('\n",
    "    coord = ''\n",
    "    for j in geodf_raw.columns:\n",
    "        if (not pd.isna(geodf_raw.iloc[i,j])): \n",
    "            if j % 2 == 0:\n",
    "                coord = str(geodf_raw.iloc[i,j])\n",
    "            elif j % 2 == 1:\n",
    "                coord = coord + ' ' + str(geodf_raw.iloc[i,j]) + ','\n",
    "                string = string + coord\n",
    "    string = string + str(geodf_raw.iloc[i,0]) + ' ' + str(geodf_raw.iloc[i,1]) + '))'\n",
    "    polygons.append(string)\n",
    "    \n",
    "ntas_df = pd.DataFrame( {'name':ntas_names, 'geometry':polygons} )\n",
    "ntas_df.head()"
   ]
  },
  {
   "cell_type": "code",
   "execution_count": null,
   "metadata": {},
   "outputs": [],
   "source": [
    "#ntas_df.to_csv(index=False)\n"
   ]
  },
  {
   "cell_type": "code",
   "execution_count": 24,
   "metadata": {},
   "outputs": [],
   "source": [
    "import geopandas\n",
    "from shapely import wkt"
   ]
  },
  {
   "cell_type": "code",
   "execution_count": 25,
   "metadata": {},
   "outputs": [
    {
     "data": {
      "image/png": "[encoded data removed]",
      "text/plain": [
       "<Figure size 432x288 with 1 Axes>"
      ]
     },
     "metadata": {
      "needs_background": "light"
     },
     "output_type": "display_data"
    }
   ],
   "source": [
    "world = geopandas.read_file(geopandas.datasets.get_path('naturalearth_lowres'))\n",
    "world.plot();"
   ]
  },
  {
   "cell_type": "code",
   "execution_count": 26,
   "metadata": {},
   "outputs": [],
   "source": [
    "ntas_df['geometry'] = ntas_df['geometry'].apply(wkt.loads)"
   ]
  },
  {
   "cell_type": "code",
   "execution_count": 27,
   "metadata": {},
   "outputs": [
    {
     "name": "stdout",
     "output_type": "stream",
     "text": [
      "   name                                           geometry\n",
      "0  BK88  POLYGON ((-73.9760507905698 40.6312841471042, ...\n",
      "1  QN52  POLYGON ((-73.79493384594591 40.7578063026709,...\n",
      "2  QN48  POLYGON ((-73.7757397458527 40.7433339175923, ...\n",
      "3  QN51  POLYGON ((-73.8037916164017 40.7756183875692, ...\n",
      "4  QN27  POLYGON ((-73.86109864852619 40.7636727485249,...\n"
     ]
    }
   ],
   "source": [
    "gdf = geopandas.GeoDataFrame(ntas_df, geometry='geometry')\n",
    "print(gdf.head())"
   ]
  },
  {
   "cell_type": "code",
   "execution_count": 28,
   "metadata": {},
   "outputs": [
    {
     "data": {
      "image/png": "[encoded data removed]",
      "text/plain": [
       "<Figure size 432x288 with 1 Axes>"
      ]
     },
     "metadata": {
      "needs_background": "light"
     },
     "output_type": "display_data"
    }
   ],
   "source": [
    "gdf.plot();"
   ]
  },
  {
   "cell_type": "markdown",
   "metadata": {},
   "source": [
    "### Convirtiendo puntos en NTAs"
   ]
  },
  {
   "cell_type": "code",
   "execution_count": 30,
   "metadata": {},
   "outputs": [],
   "source": [
    "from shapely.geometry import Point, Polygon"
   ]
  },
  {
   "cell_type": "code",
   "execution_count": 35,
   "metadata": {},
   "outputs": [],
   "source": [
    "green2 = green"
   ]
  },
  {
   "cell_type": "code",
   "execution_count": 39,
   "metadata": {},
   "outputs": [],
   "source": [
    "point_list = []\n",
    "for i in list(zip(list(green2['pickup_latitude']),list(green2['pickup_longitude']))):\n",
    "    point_list.append(Point(i[1],i[0]))\n",
    "point_list_df = pd.DataFrame(columns = ['geometry'], data = point_list)\n",
    "# point_list_df['geometry'] = point_list_df['geometry'].apply(wkt.loads)\n",
    "\n",
    "# point_list_df"
   ]
  },
  {
   "cell_type": "code",
   "execution_count": 40,
   "metadata": {},
   "outputs": [
    {
     "data": {
      "text/html": [
       "<div>\n",
       "<style scoped>\n",
       "    .dataframe tbody tr th:only-of-type {\n",
       "        vertical-align: middle;\n",
       "    }\n",
       "\n",
       "    .dataframe tbody tr th {\n",
       "        vertical-align: top;\n",
       "    }\n",
       "\n",
       "    .dataframe thead th {\n",
       "        text-align: right;\n",
       "    }\n",
       "</style>\n",
       "<table border=\"1\" class=\"dataframe\">\n",
       "  <thead>\n",
       "    <tr style=\"text-align: right;\">\n",
       "      <th></th>\n",
       "      <th>geometry</th>\n",
       "    </tr>\n",
       "  </thead>\n",
       "  <tbody>\n",
       "    <tr>\n",
       "      <th>0</th>\n",
       "      <td>POINT (-73.9535446167 40.8111724854)</td>\n",
       "    </tr>\n",
       "    <tr>\n",
       "      <th>1</th>\n",
       "      <td>POINT (-73.9467086792 40.7143211365)</td>\n",
       "    </tr>\n",
       "    <tr>\n",
       "      <th>2</th>\n",
       "      <td>POINT (-73.9576263428 40.7180938721)</td>\n",
       "    </tr>\n",
       "    <tr>\n",
       "      <th>3</th>\n",
       "      <td>POINT (-73.9495010376 40.7139968872)</td>\n",
       "    </tr>\n",
       "    <tr>\n",
       "      <th>4</th>\n",
       "      <td>POINT (-73.9440917969 40.6721954346)</td>\n",
       "    </tr>\n",
       "  </tbody>\n",
       "</table>\n",
       "</div>"
      ],
      "text/plain": [
       "                               geometry\n",
       "0  POINT (-73.9535446167 40.8111724854)\n",
       "1  POINT (-73.9467086792 40.7143211365)\n",
       "2  POINT (-73.9576263428 40.7180938721)\n",
       "3  POINT (-73.9495010376 40.7139968872)\n",
       "4  POINT (-73.9440917969 40.6721954346)"
      ]
     },
     "execution_count": 40,
     "metadata": {},
     "output_type": "execute_result"
    }
   ],
   "source": [
    "point_list_df.head()f"
   ]
  },
  {
   "cell_type": "code",
   "execution_count": 41,
   "metadata": {},
   "outputs": [
    {
     "name": "stdout",
     "output_type": "stream",
     "text": [
      "                               geometry\n",
      "0  POINT (-73.9535446167 40.8111724854)\n",
      "1  POINT (-73.9467086792 40.7143211365)\n",
      "2  POINT (-73.9576263428 40.7180938721)\n",
      "3  POINT (-73.9495010376 40.7139968872)\n",
      "4  POINT (-73.9440917969 40.6721954346)\n"
     ]
    }
   ],
   "source": [
    "points_gdf = geopandas.GeoDataFrame(point_list_df, geometry='geometry')\n",
    "print(points_gdf.head())"
   ]
  },
  {
   "cell_type": "code",
   "execution_count": 63,
   "metadata": {},
   "outputs": [],
   "source": [
    "points = points_gdf\n",
    "polys = gdf\n",
    "pointInPoly = geopandas.sjoin(points, polys, op='within')"
   ]
  },
  {
   "cell_type": "code",
   "execution_count": 88,
   "metadata": {},
   "outputs": [
    {
     "data": {
      "text/html": [
       "<div>\n",
       "<style scoped>\n",
       "    .dataframe tbody tr th:only-of-type {\n",
       "        vertical-align: middle;\n",
       "    }\n",
       "\n",
       "    .dataframe tbody tr th {\n",
       "        vertical-align: top;\n",
       "    }\n",
       "\n",
       "    .dataframe thead th {\n",
       "        text-align: right;\n",
       "    }\n",
       "</style>\n",
       "<table border=\"1\" class=\"dataframe\">\n",
       "  <thead>\n",
       "    <tr style=\"text-align: right;\">\n",
       "      <th></th>\n",
       "      <th>geometry</th>\n",
       "      <th>index_right</th>\n",
       "      <th>name</th>\n",
       "    </tr>\n",
       "  </thead>\n",
       "  <tbody>\n",
       "    <tr>\n",
       "      <th>3408732</th>\n",
       "      <td>POINT (-73.98179626460001 40.7311439514)</td>\n",
       "      <td>90</td>\n",
       "      <td>MN50</td>\n",
       "    </tr>\n",
       "    <tr>\n",
       "      <th>2650734</th>\n",
       "      <td>POINT (-74.2121810913 40.552646637)</td>\n",
       "      <td>181</td>\n",
       "      <td>SI32</td>\n",
       "    </tr>\n",
       "    <tr>\n",
       "      <th>2748946</th>\n",
       "      <td>POINT (-74.15228271479999 40.550163269)</td>\n",
       "      <td>163</td>\n",
       "      <td>SI54</td>\n",
       "    </tr>\n",
       "    <tr>\n",
       "      <th>3239409</th>\n",
       "      <td>POINT (-74.15822601319999 40.5381355286)</td>\n",
       "      <td>163</td>\n",
       "      <td>SI54</td>\n",
       "    </tr>\n",
       "    <tr>\n",
       "      <th>3158235</th>\n",
       "      <td>POINT (-74.17520141600001 40.5513572693)</td>\n",
       "      <td>162</td>\n",
       "      <td>SI01</td>\n",
       "    </tr>\n",
       "  </tbody>\n",
       "</table>\n",
       "</div>"
      ],
      "text/plain": [
       "                                         geometry  index_right  name\n",
       "3408732  POINT (-73.98179626460001 40.7311439514)           90  MN50\n",
       "2650734       POINT (-74.2121810913 40.552646637)          181  SI32\n",
       "2748946   POINT (-74.15228271479999 40.550163269)          163  SI54\n",
       "3239409  POINT (-74.15822601319999 40.5381355286)          163  SI54\n",
       "3158235  POINT (-74.17520141600001 40.5513572693)          162  SI01"
      ]
     },
     "execution_count": 88,
     "metadata": {},
     "output_type": "execute_result"
    }
   ],
   "source": [
    "pointInPoly.tail()"
   ]
  },
  {
   "cell_type": "code",
   "execution_count": 65,
   "metadata": {},
   "outputs": [
    {
     "data": {
      "text/plain": [
       "(3491499, 3)"
      ]
     },
     "execution_count": 65,
     "metadata": {},
     "output_type": "execute_result"
    }
   ],
   "source": [
    "pointInPoly.shape"
   ]
  },
  {
   "cell_type": "code",
   "execution_count": 66,
   "metadata": {},
   "outputs": [
    {
     "data": {
      "text/plain": [
       "97549"
      ]
     },
     "execution_count": 66,
     "metadata": {},
     "output_type": "execute_result"
    }
   ],
   "source": [
    "datos_faltantes = 3589048 - 3491499\n",
    "datos_faltantes"
   ]
  },
  {
   "cell_type": "code",
   "execution_count": 82,
   "metadata": {},
   "outputs": [],
   "source": [
    "df_count_group_by_NTA = pointInPoly.groupby(pointInPoly['name']).size()"
   ]
  },
  {
   "cell_type": "code",
   "execution_count": 85,
   "metadata": {},
   "outputs": [
    {
     "data": {
      "text/plain": [
       "name\n",
       "BK73    262645\n",
       "QN70    173194\n",
       "MN34    171974\n",
       "BK38    171813\n",
       "MN11    171143\n",
       "MN33    153241\n",
       "MN09    150311\n",
       "QN29    136821\n",
       "BK37    123653\n",
       "MN03    121056\n",
       "QN31    104544\n",
       "QN28    103388\n",
       "MN36     85985\n",
       "BK68     85288\n",
       "QN17     77793\n",
       "BK76     75802\n",
       "QN63     68202\n",
       "BK09     65481\n",
       "BK33     64519\n",
       "BK69     62572\n",
       "QN72     60334\n",
       "MN04     58020\n",
       "BK61     55072\n",
       "BK75     50046\n",
       "BK90     43268\n",
       "QN22     37285\n",
       "QN61     35180\n",
       "MN35     32854\n",
       "BX63     32313\n",
       "MN06     31739\n",
       "         ...  \n",
       "QN66        61\n",
       "QN45        51\n",
       "SI37        50\n",
       "MN24        46\n",
       "MN13        40\n",
       "MN19        38\n",
       "MN27        31\n",
       "SI24        30\n",
       "MN23        30\n",
       "MN22        30\n",
       "SI07        29\n",
       "MN15        29\n",
       "MN14        27\n",
       "SI05        22\n",
       "SI14        21\n",
       "MN20        16\n",
       "SI45        12\n",
       "BK99        12\n",
       "SI08        12\n",
       "SI35        11\n",
       "MN21        10\n",
       "SI36        10\n",
       "QN10         6\n",
       "QN99         6\n",
       "MN50         6\n",
       "SI48         3\n",
       "SI11         3\n",
       "SI54         2\n",
       "SI01         1\n",
       "SI32         1\n",
       "Length: 178, dtype: int64"
      ]
     },
     "execution_count": 85,
     "metadata": {},
     "output_type": "execute_result"
    }
   ],
   "source": [
    "df_count_group_by_NTA.sort_values(ascending=[False])"
   ]
  },
  {
   "cell_type": "code",
   "execution_count": null,
   "metadata": {},
   "outputs": [],
   "source": []
  },
  {
   "cell_type": "code",
   "execution_count": null,
   "metadata": {},
   "outputs": [],
   "source": []
  },
  {
   "cell_type": "code",
   "execution_count": null,
   "metadata": {},
   "outputs": [],
   "source": []
  }
 ],
 "metadata": {
  "kernelspec": {
   "display_name": "Python 3",
   "language": "python",
   "name": "python3"
  },
  "language_info": {
   "codemirror_mode": {
    "name": "ipython",
    "version": 3
   },
   "file_extension": ".py",
   "mimetype": "text/x-python",
   "name": "python",
   "nbconvert_exporter": "python",
   "pygments_lexer": "ipython3",
   "version": "3.7.3"
  }
 },
 "nbformat": 4,
 "nbformat_minor": 2
}
